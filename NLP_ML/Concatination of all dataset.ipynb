{
 "cells": [
  {
   "cell_type": "code",
   "execution_count": 1,
   "metadata": {},
   "outputs": [],
   "source": [
    "import pandas as pd\n",
    "import pickle"
   ]
  },
  {
   "cell_type": "code",
   "execution_count": 7,
   "metadata": {},
   "outputs": [],
   "source": [
    "pickle_in =open('scripts/preprocessed.pickle' ,'rb')\n",
    "dataframe11635=pickle.load(pickle_in)\n",
    "pickle_in1 =open('dataset6231.pickle' ,'rb')\n",
    "dataframe6231=pickle.load(pickle_in1)"
   ]
  },
  {
   "cell_type": "code",
   "execution_count": 8,
   "metadata": {},
   "outputs": [
    {
     "data": {
      "text/html": [
       "<div>\n",
       "<style scoped>\n",
       "    .dataframe tbody tr th:only-of-type {\n",
       "        vertical-align: middle;\n",
       "    }\n",
       "\n",
       "    .dataframe tbody tr th {\n",
       "        vertical-align: top;\n",
       "    }\n",
       "\n",
       "    .dataframe thead th {\n",
       "        text-align: right;\n",
       "    }\n",
       "</style>\n",
       "<table border=\"1\" class=\"dataframe\">\n",
       "  <thead>\n",
       "    <tr style=\"text-align: right;\">\n",
       "      <th></th>\n",
       "      <th>label</th>\n",
       "      <th>tweet_id</th>\n",
       "      <th>tweet_text</th>\n",
       "      <th>preprocessed</th>\n",
       "    </tr>\n",
       "  </thead>\n",
       "  <tbody>\n",
       "    <tr>\n",
       "      <td>0</td>\n",
       "      <td>missing_trapped_or_found_people</td>\n",
       "      <td>'592616512642420737'</td>\n",
       "      <td>fears for Foreigners missing in Nepal earthqua...</td>\n",
       "      <td>fear foreigner missing nepal earthquake death ...</td>\n",
       "    </tr>\n",
       "    <tr>\n",
       "      <td>1</td>\n",
       "      <td>affectedPeople_or_injured_or_dead_people_or_De...</td>\n",
       "      <td>'592686635520827393'</td>\n",
       "      <td>RT @ParisBurned: 3,700 people dead is absolute...</td>\n",
       "      <td>700 people dead absolutely devastating country...</td>\n",
       "    </tr>\n",
       "    <tr>\n",
       "      <td>2</td>\n",
       "      <td>donation_needs_or_offers_or_volunteering_services</td>\n",
       "      <td>'593301431366635520'</td>\n",
       "      <td>Earthquake in Nepal - Please help Kapil #crowd...</td>\n",
       "      <td>earthquake nepal please help kapil crowdfundin...</td>\n",
       "    </tr>\n",
       "    <tr>\n",
       "      <td>3</td>\n",
       "      <td>sympathy_and_emotional_support</td>\n",
       "      <td>'592637329786830848'</td>\n",
       "      <td>RT @cuteinsan: In this horrible situation in n...</td>\n",
       "      <td>horrible situation nepal god help pita really ...</td>\n",
       "    </tr>\n",
       "    <tr>\n",
       "      <td>4</td>\n",
       "      <td>affectedPeople_or_injured_or_dead_people_or_De...</td>\n",
       "      <td>'592955183753203715'</td>\n",
       "      <td>VIDEO REPORT Kathmandu overwhelmed by rubble a...</td>\n",
       "      <td>video report kathmandu overwhelmed rubble eart...</td>\n",
       "    </tr>\n",
       "  </tbody>\n",
       "</table>\n",
       "</div>"
      ],
      "text/plain": [
       "                                               label              tweet_id  \\\n",
       "0                    missing_trapped_or_found_people  '592616512642420737'   \n",
       "1  affectedPeople_or_injured_or_dead_people_or_De...  '592686635520827393'   \n",
       "2  donation_needs_or_offers_or_volunteering_services  '593301431366635520'   \n",
       "3                     sympathy_and_emotional_support  '592637329786830848'   \n",
       "4  affectedPeople_or_injured_or_dead_people_or_De...  '592955183753203715'   \n",
       "\n",
       "                                          tweet_text  \\\n",
       "0  fears for Foreigners missing in Nepal earthqua...   \n",
       "1  RT @ParisBurned: 3,700 people dead is absolute...   \n",
       "2  Earthquake in Nepal - Please help Kapil #crowd...   \n",
       "3  RT @cuteinsan: In this horrible situation in n...   \n",
       "4  VIDEO REPORT Kathmandu overwhelmed by rubble a...   \n",
       "\n",
       "                                        preprocessed  \n",
       "0  fear foreigner missing nepal earthquake death ...  \n",
       "1  700 people dead absolutely devastating country...  \n",
       "2  earthquake nepal please help kapil crowdfundin...  \n",
       "3  horrible situation nepal god help pita really ...  \n",
       "4  video report kathmandu overwhelmed rubble eart...  "
      ]
     },
     "execution_count": 8,
     "metadata": {},
     "output_type": "execute_result"
    }
   ],
   "source": [
    "dataframe11635.head()"
   ]
  },
  {
   "cell_type": "code",
   "execution_count": 9,
   "metadata": {},
   "outputs": [
    {
     "data": {
      "text/html": [
       "<div>\n",
       "<style scoped>\n",
       "    .dataframe tbody tr th:only-of-type {\n",
       "        vertical-align: middle;\n",
       "    }\n",
       "\n",
       "    .dataframe tbody tr th {\n",
       "        vertical-align: top;\n",
       "    }\n",
       "\n",
       "    .dataframe thead th {\n",
       "        text-align: right;\n",
       "    }\n",
       "</style>\n",
       "<table border=\"1\" class=\"dataframe\">\n",
       "  <thead>\n",
       "    <tr style=\"text-align: right;\">\n",
       "      <th></th>\n",
       "      <th>label</th>\n",
       "      <th>tweet_id</th>\n",
       "      <th>tweet_text</th>\n",
       "      <th>preprocessed</th>\n",
       "    </tr>\n",
       "  </thead>\n",
       "  <tbody>\n",
       "    <tr>\n",
       "      <td>0</td>\n",
       "      <td>infrastructure_and_utilities_damage</td>\n",
       "      <td>'592326564110585856'</td>\n",
       "      <td>RT @divyaconnects: Reached #Kathmandu finally!...</td>\n",
       "      <td>reached kathmandu finally lot indian stranded ...</td>\n",
       "    </tr>\n",
       "    <tr>\n",
       "      <td>1</td>\n",
       "      <td>donation_needs_or_offers_or_volunteering_services</td>\n",
       "      <td>'592590231519555584'</td>\n",
       "      <td>NepalÃÂs Slowing Economy Set for Freefall Wi...</td>\n",
       "      <td>nepal slowing economy set freefall without wor...</td>\n",
       "    </tr>\n",
       "    <tr>\n",
       "      <td>2</td>\n",
       "      <td>donation_needs_or_offers_or_volunteering_services</td>\n",
       "      <td>'593470045814181888'</td>\n",
       "      <td>Food crisis imminent for 1.4 million ppl in Ka...</td>\n",
       "      <td>food crisis imminent million ppl kathmandu lon...</td>\n",
       "    </tr>\n",
       "    <tr>\n",
       "      <td>3</td>\n",
       "      <td>donation_needs_or_offers_or_volunteering_services</td>\n",
       "      <td>'593155728128516097'</td>\n",
       "      <td>Canadian phone companies waive fees for calls ...</td>\n",
       "      <td>canadian phone company waive fee call nepal gl...</td>\n",
       "    </tr>\n",
       "    <tr>\n",
       "      <td>4</td>\n",
       "      <td>sympathy_and_emotional_support</td>\n",
       "      <td>'593609036144214016'</td>\n",
       "      <td>RT @XuscaSoleNY: https://t.co/o1RqfCCmKm don't...</td>\n",
       "      <td>believe earthquake happen naturally mother nat...</td>\n",
       "    </tr>\n",
       "  </tbody>\n",
       "</table>\n",
       "</div>"
      ],
      "text/plain": [
       "                                               label              tweet_id  \\\n",
       "0                infrastructure_and_utilities_damage  '592326564110585856'   \n",
       "1  donation_needs_or_offers_or_volunteering_services  '592590231519555584'   \n",
       "2  donation_needs_or_offers_or_volunteering_services  '593470045814181888'   \n",
       "3  donation_needs_or_offers_or_volunteering_services  '593155728128516097'   \n",
       "4                     sympathy_and_emotional_support  '593609036144214016'   \n",
       "\n",
       "                                          tweet_text  \\\n",
       "0  RT @divyaconnects: Reached #Kathmandu finally!...   \n",
       "1  NepalÃÂs Slowing Economy Set for Freefall Wi...   \n",
       "2  Food crisis imminent for 1.4 million ppl in Ka...   \n",
       "3  Canadian phone companies waive fees for calls ...   \n",
       "4  RT @XuscaSoleNY: https://t.co/o1RqfCCmKm don't...   \n",
       "\n",
       "                                        preprocessed  \n",
       "0  reached kathmandu finally lot indian stranded ...  \n",
       "1  nepal slowing economy set freefall without wor...  \n",
       "2  food crisis imminent million ppl kathmandu lon...  \n",
       "3  canadian phone company waive fee call nepal gl...  \n",
       "4  believe earthquake happen naturally mother nat...  "
      ]
     },
     "execution_count": 9,
     "metadata": {},
     "output_type": "execute_result"
    }
   ],
   "source": [
    "dataframe6231.head()"
   ]
  },
  {
   "cell_type": "code",
   "execution_count": 10,
   "metadata": {},
   "outputs": [
    {
     "name": "stdout",
     "output_type": "stream",
     "text": [
      "(11635, 4)\n",
      "(6231, 4)\n"
     ]
    }
   ],
   "source": [
    "print(dataframe11635.shape)\n",
    "print(dataframe6231.shape)"
   ]
  },
  {
   "cell_type": "code",
   "execution_count": 11,
   "metadata": {},
   "outputs": [],
   "source": [
    "dataframe=pd.concat([dataframe11635,dataframe6231],ignore_index=True)"
   ]
  },
  {
   "cell_type": "code",
   "execution_count": 12,
   "metadata": {},
   "outputs": [
    {
     "data": {
      "text/html": [
       "<div>\n",
       "<style scoped>\n",
       "    .dataframe tbody tr th:only-of-type {\n",
       "        vertical-align: middle;\n",
       "    }\n",
       "\n",
       "    .dataframe tbody tr th {\n",
       "        vertical-align: top;\n",
       "    }\n",
       "\n",
       "    .dataframe thead th {\n",
       "        text-align: right;\n",
       "    }\n",
       "</style>\n",
       "<table border=\"1\" class=\"dataframe\">\n",
       "  <thead>\n",
       "    <tr style=\"text-align: right;\">\n",
       "      <th></th>\n",
       "      <th>label</th>\n",
       "      <th>tweet_id</th>\n",
       "      <th>tweet_text</th>\n",
       "      <th>preprocessed</th>\n",
       "    </tr>\n",
       "  </thead>\n",
       "  <tbody>\n",
       "    <tr>\n",
       "      <td>0</td>\n",
       "      <td>missing_trapped_or_found_people</td>\n",
       "      <td>'592616512642420737'</td>\n",
       "      <td>fears for Foreigners missing in Nepal earthqua...</td>\n",
       "      <td>fear foreigner missing nepal earthquake death ...</td>\n",
       "    </tr>\n",
       "    <tr>\n",
       "      <td>1</td>\n",
       "      <td>affectedPeople_or_injured_or_dead_people_or_De...</td>\n",
       "      <td>'592686635520827393'</td>\n",
       "      <td>RT @ParisBurned: 3,700 people dead is absolute...</td>\n",
       "      <td>700 people dead absolutely devastating country...</td>\n",
       "    </tr>\n",
       "    <tr>\n",
       "      <td>2</td>\n",
       "      <td>donation_needs_or_offers_or_volunteering_services</td>\n",
       "      <td>'593301431366635520'</td>\n",
       "      <td>Earthquake in Nepal - Please help Kapil #crowd...</td>\n",
       "      <td>earthquake nepal please help kapil crowdfundin...</td>\n",
       "    </tr>\n",
       "    <tr>\n",
       "      <td>3</td>\n",
       "      <td>sympathy_and_emotional_support</td>\n",
       "      <td>'592637329786830848'</td>\n",
       "      <td>RT @cuteinsan: In this horrible situation in n...</td>\n",
       "      <td>horrible situation nepal god help pita really ...</td>\n",
       "    </tr>\n",
       "    <tr>\n",
       "      <td>4</td>\n",
       "      <td>affectedPeople_or_injured_or_dead_people_or_De...</td>\n",
       "      <td>'592955183753203715'</td>\n",
       "      <td>VIDEO REPORT Kathmandu overwhelmed by rubble a...</td>\n",
       "      <td>video report kathmandu overwhelmed rubble eart...</td>\n",
       "    </tr>\n",
       "  </tbody>\n",
       "</table>\n",
       "</div>"
      ],
      "text/plain": [
       "                                               label              tweet_id  \\\n",
       "0                    missing_trapped_or_found_people  '592616512642420737'   \n",
       "1  affectedPeople_or_injured_or_dead_people_or_De...  '592686635520827393'   \n",
       "2  donation_needs_or_offers_or_volunteering_services  '593301431366635520'   \n",
       "3                     sympathy_and_emotional_support  '592637329786830848'   \n",
       "4  affectedPeople_or_injured_or_dead_people_or_De...  '592955183753203715'   \n",
       "\n",
       "                                          tweet_text  \\\n",
       "0  fears for Foreigners missing in Nepal earthqua...   \n",
       "1  RT @ParisBurned: 3,700 people dead is absolute...   \n",
       "2  Earthquake in Nepal - Please help Kapil #crowd...   \n",
       "3  RT @cuteinsan: In this horrible situation in n...   \n",
       "4  VIDEO REPORT Kathmandu overwhelmed by rubble a...   \n",
       "\n",
       "                                        preprocessed  \n",
       "0  fear foreigner missing nepal earthquake death ...  \n",
       "1  700 people dead absolutely devastating country...  \n",
       "2  earthquake nepal please help kapil crowdfundin...  \n",
       "3  horrible situation nepal god help pita really ...  \n",
       "4  video report kathmandu overwhelmed rubble eart...  "
      ]
     },
     "execution_count": 12,
     "metadata": {},
     "output_type": "execute_result"
    }
   ],
   "source": [
    "dataframe.head()"
   ]
  },
  {
   "cell_type": "code",
   "execution_count": 17,
   "metadata": {},
   "outputs": [
    {
     "data": {
      "text/plain": [
       "(17866, 4)"
      ]
     },
     "execution_count": 17,
     "metadata": {},
     "output_type": "execute_result"
    }
   ],
   "source": [
    "dataframe.shape"
   ]
  },
  {
   "cell_type": "code",
   "execution_count": 16,
   "metadata": {},
   "outputs": [
    {
     "data": {
      "text/plain": [
       "prevention_or_caution_and_advice                            3998\n",
       "affectedPeople_or_injured_or_dead_people_or_DeathReports    3749\n",
       "donation_needs_or_offers_or_volunteering_services           3059\n",
       "sympathy_and_emotional_support                              2369\n",
       "infrastructure_and_utilities_damage                         2327\n",
       "disease_transmission_or_disease_signs_or_symptoms            970\n",
       "missing_trapped_or_found_people                              905\n",
       "treatment                                                    489\n",
       "Name: label, dtype: int64"
      ]
     },
     "execution_count": 16,
     "metadata": {},
     "output_type": "execute_result"
    }
   ],
   "source": [
    "dataframe['label'].value_counts()"
   ]
  },
  {
   "cell_type": "code",
   "execution_count": 18,
   "metadata": {},
   "outputs": [],
   "source": [
    "with open(\"dataset17866.pickle\", 'wb') as f:\n",
    "    pickle.dump(dataframe,f)"
   ]
  },
  {
   "cell_type": "code",
   "execution_count": 19,
   "metadata": {},
   "outputs": [],
   "source": [
    "\n",
    "pickle_in3=open('dataset17866.pickle','rb')\n",
    "dataset17866=pickle.load(pickle_in3)\n",
    "\n",
    "pickle_in4=open('mainprocessed_dataset20624.pickle','rb')\n",
    "dataset20624=pickle.load(pickle_in4)"
   ]
  },
  {
   "cell_type": "code",
   "execution_count": 20,
   "metadata": {},
   "outputs": [
    {
     "name": "stdout",
     "output_type": "stream",
     "text": [
      "(17866, 4)\n",
      "(20624, 4)\n"
     ]
    }
   ],
   "source": [
    "print(dataset17866.shape)\n",
    "print(dataset20624.shape)"
   ]
  },
  {
   "cell_type": "code",
   "execution_count": 23,
   "metadata": {},
   "outputs": [
    {
     "data": {
      "text/html": [
       "<div>\n",
       "<style scoped>\n",
       "    .dataframe tbody tr th:only-of-type {\n",
       "        vertical-align: middle;\n",
       "    }\n",
       "\n",
       "    .dataframe tbody tr th {\n",
       "        vertical-align: top;\n",
       "    }\n",
       "\n",
       "    .dataframe thead th {\n",
       "        text-align: right;\n",
       "    }\n",
       "</style>\n",
       "<table border=\"1\" class=\"dataframe\">\n",
       "  <thead>\n",
       "    <tr style=\"text-align: right;\">\n",
       "      <th></th>\n",
       "      <th>label</th>\n",
       "      <th>tweet_id</th>\n",
       "      <th>tweet_text</th>\n",
       "      <th>preprocessed</th>\n",
       "    </tr>\n",
       "  </thead>\n",
       "  <tbody>\n",
       "    <tr>\n",
       "      <td>8</td>\n",
       "      <td>not_related_or_irrelevant</td>\n",
       "      <td>'592877872538324993'</td>\n",
       "      <td>RT @RevolutionMonk: #VultureEvangelists Most d...</td>\n",
       "      <td>vultureevangelists disgusting creature earth m...</td>\n",
       "    </tr>\n",
       "    <tr>\n",
       "      <td>33</td>\n",
       "      <td>not_related_or_irrelevant</td>\n",
       "      <td>'592111870376419328'</td>\n",
       "      <td>RT @LiaqatAli2015: 28/48 handful of people wil...</td>\n",
       "      <td>handful people believe religion god adopt divi...</td>\n",
       "    </tr>\n",
       "    <tr>\n",
       "      <td>35</td>\n",
       "      <td>not_related_or_irrelevant</td>\n",
       "      <td>'592131874014629888'</td>\n",
       "      <td>Why Nepal gets such big earthquakes (+video) -...</td>\n",
       "      <td>nepal get big earthquake video christian scien...</td>\n",
       "    </tr>\n",
       "    <tr>\n",
       "      <td>37</td>\n",
       "      <td>not_related_or_irrelevant</td>\n",
       "      <td>'592137499322941440'</td>\n",
       "      <td>Add hit songs to your videos - FREE APP TODAY!...</td>\n",
       "      <td>add hit song video free app today nepal</td>\n",
       "    </tr>\n",
       "    <tr>\n",
       "      <td>43</td>\n",
       "      <td>not_related_or_irrelevant</td>\n",
       "      <td>'592720104372183040'</td>\n",
       "      <td>Check the cluster and coordiantionget meetings...</td>\n",
       "      <td>check cluster coordiantionget meeting nepal ne...</td>\n",
       "    </tr>\n",
       "  </tbody>\n",
       "</table>\n",
       "</div>"
      ],
      "text/plain": [
       "                        label              tweet_id  \\\n",
       "8   not_related_or_irrelevant  '592877872538324993'   \n",
       "33  not_related_or_irrelevant  '592111870376419328'   \n",
       "35  not_related_or_irrelevant  '592131874014629888'   \n",
       "37  not_related_or_irrelevant  '592137499322941440'   \n",
       "43  not_related_or_irrelevant  '592720104372183040'   \n",
       "\n",
       "                                           tweet_text  \\\n",
       "8   RT @RevolutionMonk: #VultureEvangelists Most d...   \n",
       "33  RT @LiaqatAli2015: 28/48 handful of people wil...   \n",
       "35  Why Nepal gets such big earthquakes (+video) -...   \n",
       "37  Add hit songs to your videos - FREE APP TODAY!...   \n",
       "43  Check the cluster and coordiantionget meetings...   \n",
       "\n",
       "                                         preprocessed  \n",
       "8   vultureevangelists disgusting creature earth m...  \n",
       "33  handful people believe religion god adopt divi...  \n",
       "35  nepal get big earthquake video christian scien...  \n",
       "37            add hit song video free app today nepal  \n",
       "43  check cluster coordiantionget meeting nepal ne...  "
      ]
     },
     "execution_count": 23,
     "metadata": {},
     "output_type": "execute_result"
    }
   ],
   "source": [
    "not_related_or_irrelevant=dataset20624[dataset20624['label']=='not_related_or_irrelevant']\n",
    "not_related_or_irrelevant.head()"
   ]
  },
  {
   "cell_type": "code",
   "execution_count": 24,
   "metadata": {},
   "outputs": [],
   "source": [
    "with open('not_related_or_irrelevant_dataset.pickle' ,'wb') as f:\n",
    "    pickle.dump(not_related_or_irrelevant,f)"
   ]
  },
  {
   "cell_type": "code",
   "execution_count": 25,
   "metadata": {},
   "outputs": [],
   "source": [
    "pickle_in5=open('not_related_or_irrelevant_dataset.pickle','rb')\n",
    "dataset2758=pickle.load(pickle_in5)"
   ]
  },
  {
   "cell_type": "code",
   "execution_count": 26,
   "metadata": {},
   "outputs": [
    {
     "data": {
      "text/html": [
       "<div>\n",
       "<style scoped>\n",
       "    .dataframe tbody tr th:only-of-type {\n",
       "        vertical-align: middle;\n",
       "    }\n",
       "\n",
       "    .dataframe tbody tr th {\n",
       "        vertical-align: top;\n",
       "    }\n",
       "\n",
       "    .dataframe thead th {\n",
       "        text-align: right;\n",
       "    }\n",
       "</style>\n",
       "<table border=\"1\" class=\"dataframe\">\n",
       "  <thead>\n",
       "    <tr style=\"text-align: right;\">\n",
       "      <th></th>\n",
       "      <th>label</th>\n",
       "      <th>tweet_id</th>\n",
       "      <th>tweet_text</th>\n",
       "      <th>preprocessed</th>\n",
       "    </tr>\n",
       "  </thead>\n",
       "  <tbody>\n",
       "    <tr>\n",
       "      <td>8</td>\n",
       "      <td>not_related_or_irrelevant</td>\n",
       "      <td>'592877872538324993'</td>\n",
       "      <td>RT @RevolutionMonk: #VultureEvangelists Most d...</td>\n",
       "      <td>vultureevangelists disgusting creature earth m...</td>\n",
       "    </tr>\n",
       "    <tr>\n",
       "      <td>33</td>\n",
       "      <td>not_related_or_irrelevant</td>\n",
       "      <td>'592111870376419328'</td>\n",
       "      <td>RT @LiaqatAli2015: 28/48 handful of people wil...</td>\n",
       "      <td>handful people believe religion god adopt divi...</td>\n",
       "    </tr>\n",
       "    <tr>\n",
       "      <td>35</td>\n",
       "      <td>not_related_or_irrelevant</td>\n",
       "      <td>'592131874014629888'</td>\n",
       "      <td>Why Nepal gets such big earthquakes (+video) -...</td>\n",
       "      <td>nepal get big earthquake video christian scien...</td>\n",
       "    </tr>\n",
       "    <tr>\n",
       "      <td>37</td>\n",
       "      <td>not_related_or_irrelevant</td>\n",
       "      <td>'592137499322941440'</td>\n",
       "      <td>Add hit songs to your videos - FREE APP TODAY!...</td>\n",
       "      <td>add hit song video free app today nepal</td>\n",
       "    </tr>\n",
       "    <tr>\n",
       "      <td>43</td>\n",
       "      <td>not_related_or_irrelevant</td>\n",
       "      <td>'592720104372183040'</td>\n",
       "      <td>Check the cluster and coordiantionget meetings...</td>\n",
       "      <td>check cluster coordiantionget meeting nepal ne...</td>\n",
       "    </tr>\n",
       "  </tbody>\n",
       "</table>\n",
       "</div>"
      ],
      "text/plain": [
       "                        label              tweet_id  \\\n",
       "8   not_related_or_irrelevant  '592877872538324993'   \n",
       "33  not_related_or_irrelevant  '592111870376419328'   \n",
       "35  not_related_or_irrelevant  '592131874014629888'   \n",
       "37  not_related_or_irrelevant  '592137499322941440'   \n",
       "43  not_related_or_irrelevant  '592720104372183040'   \n",
       "\n",
       "                                           tweet_text  \\\n",
       "8   RT @RevolutionMonk: #VultureEvangelists Most d...   \n",
       "33  RT @LiaqatAli2015: 28/48 handful of people wil...   \n",
       "35  Why Nepal gets such big earthquakes (+video) -...   \n",
       "37  Add hit songs to your videos - FREE APP TODAY!...   \n",
       "43  Check the cluster and coordiantionget meetings...   \n",
       "\n",
       "                                         preprocessed  \n",
       "8   vultureevangelists disgusting creature earth m...  \n",
       "33  handful people believe religion god adopt divi...  \n",
       "35  nepal get big earthquake video christian scien...  \n",
       "37            add hit song video free app today nepal  \n",
       "43  check cluster coordiantionget meeting nepal ne...  "
      ]
     },
     "execution_count": 26,
     "metadata": {},
     "output_type": "execute_result"
    }
   ],
   "source": [
    "dataset2758.head()"
   ]
  },
  {
   "cell_type": "code",
   "execution_count": 27,
   "metadata": {},
   "outputs": [
    {
     "data": {
      "text/plain": [
       "(2758, 4)"
      ]
     },
     "execution_count": 27,
     "metadata": {},
     "output_type": "execute_result"
    }
   ],
   "source": [
    "dataset2758.shape"
   ]
  },
  {
   "cell_type": "code",
   "execution_count": 28,
   "metadata": {},
   "outputs": [
    {
     "data": {
      "text/plain": [
       "not_related_or_irrelevant    2758\n",
       "Name: label, dtype: int64"
      ]
     },
     "execution_count": 28,
     "metadata": {},
     "output_type": "execute_result"
    }
   ],
   "source": [
    "dataset2758['label'].value_counts()"
   ]
  },
  {
   "cell_type": "code",
   "execution_count": 29,
   "metadata": {},
   "outputs": [],
   "source": [
    "final_dataset=pd.concat([dataset17866,dataset2758],ignore_index=True)"
   ]
  },
  {
   "cell_type": "code",
   "execution_count": 30,
   "metadata": {},
   "outputs": [
    {
     "data": {
      "text/plain": [
       "(20624, 4)"
      ]
     },
     "execution_count": 30,
     "metadata": {},
     "output_type": "execute_result"
    }
   ],
   "source": [
    "final_dataset.shape"
   ]
  },
  {
   "cell_type": "code",
   "execution_count": 32,
   "metadata": {},
   "outputs": [
    {
     "data": {
      "text/html": [
       "<div>\n",
       "<style scoped>\n",
       "    .dataframe tbody tr th:only-of-type {\n",
       "        vertical-align: middle;\n",
       "    }\n",
       "\n",
       "    .dataframe tbody tr th {\n",
       "        vertical-align: top;\n",
       "    }\n",
       "\n",
       "    .dataframe thead th {\n",
       "        text-align: right;\n",
       "    }\n",
       "</style>\n",
       "<table border=\"1\" class=\"dataframe\">\n",
       "  <thead>\n",
       "    <tr style=\"text-align: right;\">\n",
       "      <th></th>\n",
       "      <th>label</th>\n",
       "      <th>tweet_id</th>\n",
       "      <th>tweet_text</th>\n",
       "      <th>preprocessed</th>\n",
       "    </tr>\n",
       "  </thead>\n",
       "  <tbody>\n",
       "    <tr>\n",
       "      <td>0</td>\n",
       "      <td>missing_trapped_or_found_people</td>\n",
       "      <td>'592616512642420737'</td>\n",
       "      <td>fears for Foreigners missing in Nepal earthqua...</td>\n",
       "      <td>fear foreigner missing nepal earthquake death ...</td>\n",
       "    </tr>\n",
       "    <tr>\n",
       "      <td>1</td>\n",
       "      <td>affectedPeople_or_injured_or_dead_people_or_De...</td>\n",
       "      <td>'592686635520827393'</td>\n",
       "      <td>RT @ParisBurned: 3,700 people dead is absolute...</td>\n",
       "      <td>700 people dead absolutely devastating country...</td>\n",
       "    </tr>\n",
       "    <tr>\n",
       "      <td>2</td>\n",
       "      <td>donation_needs_or_offers_or_volunteering_services</td>\n",
       "      <td>'593301431366635520'</td>\n",
       "      <td>Earthquake in Nepal - Please help Kapil #crowd...</td>\n",
       "      <td>earthquake nepal please help kapil crowdfundin...</td>\n",
       "    </tr>\n",
       "    <tr>\n",
       "      <td>3</td>\n",
       "      <td>sympathy_and_emotional_support</td>\n",
       "      <td>'592637329786830848'</td>\n",
       "      <td>RT @cuteinsan: In this horrible situation in n...</td>\n",
       "      <td>horrible situation nepal god help pita really ...</td>\n",
       "    </tr>\n",
       "    <tr>\n",
       "      <td>4</td>\n",
       "      <td>affectedPeople_or_injured_or_dead_people_or_De...</td>\n",
       "      <td>'592955183753203715'</td>\n",
       "      <td>VIDEO REPORT Kathmandu overwhelmed by rubble a...</td>\n",
       "      <td>video report kathmandu overwhelmed rubble eart...</td>\n",
       "    </tr>\n",
       "  </tbody>\n",
       "</table>\n",
       "</div>"
      ],
      "text/plain": [
       "                                               label              tweet_id  \\\n",
       "0                    missing_trapped_or_found_people  '592616512642420737'   \n",
       "1  affectedPeople_or_injured_or_dead_people_or_De...  '592686635520827393'   \n",
       "2  donation_needs_or_offers_or_volunteering_services  '593301431366635520'   \n",
       "3                     sympathy_and_emotional_support  '592637329786830848'   \n",
       "4  affectedPeople_or_injured_or_dead_people_or_De...  '592955183753203715'   \n",
       "\n",
       "                                          tweet_text  \\\n",
       "0  fears for Foreigners missing in Nepal earthqua...   \n",
       "1  RT @ParisBurned: 3,700 people dead is absolute...   \n",
       "2  Earthquake in Nepal - Please help Kapil #crowd...   \n",
       "3  RT @cuteinsan: In this horrible situation in n...   \n",
       "4  VIDEO REPORT Kathmandu overwhelmed by rubble a...   \n",
       "\n",
       "                                        preprocessed  \n",
       "0  fear foreigner missing nepal earthquake death ...  \n",
       "1  700 people dead absolutely devastating country...  \n",
       "2  earthquake nepal please help kapil crowdfundin...  \n",
       "3  horrible situation nepal god help pita really ...  \n",
       "4  video report kathmandu overwhelmed rubble eart...  "
      ]
     },
     "execution_count": 32,
     "metadata": {},
     "output_type": "execute_result"
    }
   ],
   "source": [
    "final_dataset.head()"
   ]
  },
  {
   "cell_type": "code",
   "execution_count": 33,
   "metadata": {},
   "outputs": [
    {
     "data": {
      "text/plain": [
       "prevention_or_caution_and_advice                            3998\n",
       "affectedPeople_or_injured_or_dead_people_or_DeathReports    3749\n",
       "donation_needs_or_offers_or_volunteering_services           3059\n",
       "not_related_or_irrelevant                                   2758\n",
       "sympathy_and_emotional_support                              2369\n",
       "infrastructure_and_utilities_damage                         2327\n",
       "disease_transmission_or_disease_signs_or_symptoms            970\n",
       "missing_trapped_or_found_people                              905\n",
       "treatment                                                    489\n",
       "Name: label, dtype: int64"
      ]
     },
     "execution_count": 33,
     "metadata": {},
     "output_type": "execute_result"
    }
   ],
   "source": [
    "final_dataset['label'].value_counts()"
   ]
  },
  {
   "cell_type": "code",
   "execution_count": 34,
   "metadata": {},
   "outputs": [],
   "source": [
    "with open('final_dataset.pickle','wb') as f:\n",
    "    pickle.dump(final_dataset,f)"
   ]
  },
  {
   "cell_type": "code",
   "execution_count": null,
   "metadata": {},
   "outputs": [],
   "source": []
  }
 ],
 "metadata": {
  "kernelspec": {
   "display_name": "Python 3",
   "language": "python",
   "name": "python3"
  },
  "language_info": {
   "codemirror_mode": {
    "name": "ipython",
    "version": 3
   },
   "file_extension": ".py",
   "mimetype": "text/x-python",
   "name": "python",
   "nbconvert_exporter": "python",
   "pygments_lexer": "ipython3",
   "version": "3.7.4"
  }
 },
 "nbformat": 4,
 "nbformat_minor": 2
}
