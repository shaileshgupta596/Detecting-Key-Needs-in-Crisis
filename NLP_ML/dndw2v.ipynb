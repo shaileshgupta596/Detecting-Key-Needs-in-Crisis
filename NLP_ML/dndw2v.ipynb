{
 "cells": [
  {
   "cell_type": "code",
   "execution_count": 1,
   "metadata": {},
   "outputs": [
    {
     "data": {
      "text/plain": [
       "'Algorithms used\\nnaivebayes>>>MultinomialNB ,BernoulliNB\\nlinear_model>>>>>Logistic regression ,SGDClassifier, \\nSVM>>>>SVC ,LinearSVC ,NuSVC\\nRandomForest\\n'"
      ]
     },
     "execution_count": 1,
     "metadata": {},
     "output_type": "execute_result"
    }
   ],
   "source": [
    "'''importing required lib'''\n",
    "import numpy as np # to deal with numbers and array\n",
    "import pandas as pd #for handling dataframes\n",
    "from sklearn.utils import shuffle #use to shuffle dataframe\n",
    "\n",
    "''' lib required for creating a model  i.e text data into array of matrix'''\n",
    "from sklearn.feature_extraction.text import CountVectorizer  ## BOW Model\n",
    "from sklearn.feature_extraction.text import TfidfVectorizer  ## TFIDF Model\n",
    "# for converting text data into array \n",
    "\n",
    "''' lib required for cleaning of data'''\n",
    "from nltk.corpus import stopwords #containing stopwords\n",
    "from nltk.stem.porter import PorterStemmer # use to fing a core meaning of words \n",
    "from nltk.stem.wordnet import WordNetLemmatizer\n",
    "import re #used for regular expression operation\n",
    "import os\n",
    "import nltk\n",
    "\n",
    "'''Algorithms used\n",
    "naivebayes>>>MultinomialNB ,BernoulliNB\n",
    "linear_model>>>>>Logistic regression ,SGDClassifier, \n",
    "SVM>>>>SVC ,LinearSVC ,NuSVC\n",
    "RandomForest\n",
    "'''"
   ]
  },
  {
   "cell_type": "code",
   "execution_count": 2,
   "metadata": {},
   "outputs": [],
   "source": [
    "dataframe=pd.read_csv('crisis2.csv',encoding = 'unicode_escape')"
   ]
  },
  {
   "cell_type": "code",
   "execution_count": 3,
   "metadata": {},
   "outputs": [],
   "source": [
    "del dataframe['Unnamed: 0']"
   ]
  },
  {
   "cell_type": "code",
   "execution_count": 4,
   "metadata": {},
   "outputs": [
    {
     "data": {
      "text/html": [
       "<div>\n",
       "<style scoped>\n",
       "    .dataframe tbody tr th:only-of-type {\n",
       "        vertical-align: middle;\n",
       "    }\n",
       "\n",
       "    .dataframe tbody tr th {\n",
       "        vertical-align: top;\n",
       "    }\n",
       "\n",
       "    .dataframe thead th {\n",
       "        text-align: right;\n",
       "    }\n",
       "</style>\n",
       "<table border=\"1\" class=\"dataframe\">\n",
       "  <thead>\n",
       "    <tr style=\"text-align: right;\">\n",
       "      <th></th>\n",
       "      <th>label</th>\n",
       "      <th>tweet_id</th>\n",
       "      <th>tweet_text</th>\n",
       "    </tr>\n",
       "  </thead>\n",
       "  <tbody>\n",
       "    <tr>\n",
       "      <td>0</td>\n",
       "      <td>other_useful_information</td>\n",
       "      <td>'592326564110585856'</td>\n",
       "      <td>RT @divyaconnects: Reached #Kathmandu finally!...</td>\n",
       "    </tr>\n",
       "    <tr>\n",
       "      <td>1</td>\n",
       "      <td>missing_trapped_or_found_people</td>\n",
       "      <td>'592616512642420737'</td>\n",
       "      <td>fears for Foreigners missing in Nepal earthqua...</td>\n",
       "    </tr>\n",
       "    <tr>\n",
       "      <td>2</td>\n",
       "      <td>affectedPeople_or_injured_or_dead_people_or_De...</td>\n",
       "      <td>'592686635520827393'</td>\n",
       "      <td>RT @ParisBurned: 3,700 people dead is absolute...</td>\n",
       "    </tr>\n",
       "    <tr>\n",
       "      <td>3</td>\n",
       "      <td>donation_needs_or_offers_or_volunteering_services</td>\n",
       "      <td>'593301431366635520'</td>\n",
       "      <td>Earthquake in Nepal - Please help Kapil #crowd...</td>\n",
       "    </tr>\n",
       "    <tr>\n",
       "      <td>4</td>\n",
       "      <td>other_useful_information</td>\n",
       "      <td>'592590231519555584'</td>\n",
       "      <td>NepalÂs Slowing Economy Set for Freefall With...</td>\n",
       "    </tr>\n",
       "  </tbody>\n",
       "</table>\n",
       "</div>"
      ],
      "text/plain": [
       "                                               label              tweet_id  \\\n",
       "0                           other_useful_information  '592326564110585856'   \n",
       "1                    missing_trapped_or_found_people  '592616512642420737'   \n",
       "2  affectedPeople_or_injured_or_dead_people_or_De...  '592686635520827393'   \n",
       "3  donation_needs_or_offers_or_volunteering_services  '593301431366635520'   \n",
       "4                           other_useful_information  '592590231519555584'   \n",
       "\n",
       "                                          tweet_text  \n",
       "0  RT @divyaconnects: Reached #Kathmandu finally!...  \n",
       "1  fears for Foreigners missing in Nepal earthqua...  \n",
       "2  RT @ParisBurned: 3,700 people dead is absolute...  \n",
       "3  Earthquake in Nepal - Please help Kapil #crowd...  \n",
       "4  NepalÂs Slowing Economy Set for Freefall With...  "
      ]
     },
     "execution_count": 4,
     "metadata": {},
     "output_type": "execute_result"
    }
   ],
   "source": [
    "dataframe.head() #showing first five values"
   ]
  },
  {
   "cell_type": "code",
   "execution_count": 5,
   "metadata": {},
   "outputs": [
    {
     "data": {
      "text/plain": [
       "(17866, 3)"
      ]
     },
     "execution_count": 5,
     "metadata": {},
     "output_type": "execute_result"
    }
   ],
   "source": [
    "dataframe.shape # describing the size of dataframe"
   ]
  },
  {
   "cell_type": "code",
   "execution_count": 6,
   "metadata": {},
   "outputs": [
    {
     "data": {
      "text/plain": [
       "Index(['label', 'tweet_id', 'tweet_text'], dtype='object')"
      ]
     },
     "execution_count": 6,
     "metadata": {},
     "output_type": "execute_result"
    }
   ],
   "source": [
    "dataframe.columns #information about the attributes"
   ]
  },
  {
   "cell_type": "code",
   "execution_count": 7,
   "metadata": {},
   "outputs": [
    {
     "data": {
      "text/html": [
       "<div>\n",
       "<style scoped>\n",
       "    .dataframe tbody tr th:only-of-type {\n",
       "        vertical-align: middle;\n",
       "    }\n",
       "\n",
       "    .dataframe tbody tr th {\n",
       "        vertical-align: top;\n",
       "    }\n",
       "\n",
       "    .dataframe thead th {\n",
       "        text-align: right;\n",
       "    }\n",
       "</style>\n",
       "<table border=\"1\" class=\"dataframe\">\n",
       "  <thead>\n",
       "    <tr style=\"text-align: right;\">\n",
       "      <th></th>\n",
       "      <th>label</th>\n",
       "      <th>tweet_id</th>\n",
       "      <th>tweet_text</th>\n",
       "    </tr>\n",
       "  </thead>\n",
       "  <tbody>\n",
       "    <tr>\n",
       "      <td>count</td>\n",
       "      <td>17866</td>\n",
       "      <td>17866</td>\n",
       "      <td>17866</td>\n",
       "    </tr>\n",
       "    <tr>\n",
       "      <td>unique</td>\n",
       "      <td>9</td>\n",
       "      <td>16297</td>\n",
       "      <td>16297</td>\n",
       "    </tr>\n",
       "    <tr>\n",
       "      <td>top</td>\n",
       "      <td>other_useful_information</td>\n",
       "      <td>'384668377278472192'</td>\n",
       "      <td>Watch #NDMA Chairman Major General Syed Aleem'...</td>\n",
       "    </tr>\n",
       "    <tr>\n",
       "      <td>freq</td>\n",
       "      <td>6231</td>\n",
       "      <td>2</td>\n",
       "      <td>2</td>\n",
       "    </tr>\n",
       "  </tbody>\n",
       "</table>\n",
       "</div>"
      ],
      "text/plain": [
       "                           label              tweet_id  \\\n",
       "count                      17866                 17866   \n",
       "unique                         9                 16297   \n",
       "top     other_useful_information  '384668377278472192'   \n",
       "freq                        6231                     2   \n",
       "\n",
       "                                               tweet_text  \n",
       "count                                               17866  \n",
       "unique                                              16297  \n",
       "top     Watch #NDMA Chairman Major General Syed Aleem'...  \n",
       "freq                                                    2  "
      ]
     },
     "execution_count": 7,
     "metadata": {},
     "output_type": "execute_result"
    }
   ],
   "source": [
    "dataframe.describe() # describe the dataframe internal information"
   ]
  },
  {
   "cell_type": "code",
   "execution_count": 8,
   "metadata": {},
   "outputs": [
    {
     "data": {
      "text/plain": [
       "label         0\n",
       "tweet_id      0\n",
       "tweet_text    0\n",
       "dtype: int64"
      ]
     },
     "execution_count": 8,
     "metadata": {},
     "output_type": "execute_result"
    }
   ],
   "source": [
    "dataframe.isnull().sum() #determining whether there is a empty value is present or not"
   ]
  },
  {
   "cell_type": "code",
   "execution_count": 9,
   "metadata": {},
   "outputs": [
    {
     "data": {
      "text/plain": [
       "array(['other_useful_information', 'missing_trapped_or_found_people',\n",
       "       'affectedPeople_or_injured_or_dead_people_or_DeathReports',\n",
       "       'donation_needs_or_offers_or_volunteering_services',\n",
       "       'sympathy_and_emotional_support',\n",
       "       'prevention_or_caution_and_advice',\n",
       "       'infrastructure_and_utilities_damage',\n",
       "       'disease_transmission_or_disease_signs_or_symptoms', 'treatment'],\n",
       "      dtype=object)"
      ]
     },
     "execution_count": 9,
     "metadata": {},
     "output_type": "execute_result"
    }
   ],
   "source": [
    "dataframe['label'].unique()"
   ]
  },
  {
   "cell_type": "code",
   "execution_count": 10,
   "metadata": {},
   "outputs": [],
   "source": [
    "def same_class(x):\n",
    "    if x == \"deaths_reports\" or x==\"injured_or_dead_people\" or x==\"affected_people\":\n",
    "        return \"affectedPeople_or_injured_or_dead_people_or_DeathReports\"\n",
    "    elif x==\"disease_transmission\" or x==\"disease_signs_or_symptoms\":\n",
    "        return \"disease_transmission_or_disease_signs_or_symptoms\"\n",
    "    elif x==\"displaced_people_and_evacuations\" or x==\"missing_trapped_or_found_people\":\n",
    "        return 'missing_trapped_or_found_people'\n",
    "    elif x==\"caution_and_advice\" or x==\"prevention\":\n",
    "        return \"prevention_or_caution_and_advice\"\n",
    "    else:\n",
    "        return x"
   ]
  },
  {
   "cell_type": "code",
   "execution_count": 11,
   "metadata": {},
   "outputs": [],
   "source": [
    "\n",
    "dataframe[\"label\"]=dataframe[\"label\"].map(same_class)      "
   ]
  },
  {
   "cell_type": "code",
   "execution_count": 12,
   "metadata": {},
   "outputs": [
    {
     "name": "stdout",
     "output_type": "stream",
     "text": [
      "other_useful_information                                    6231\n",
      "affectedPeople_or_injured_or_dead_people_or_DeathReports    3051\n",
      "donation_needs_or_offers_or_volunteering_services           2288\n",
      "sympathy_and_emotional_support                              1875\n",
      "infrastructure_and_utilities_damage                         1336\n",
      "prevention_or_caution_and_advice                            1282\n",
      "missing_trapped_or_found_people                              751\n",
      "disease_transmission_or_disease_signs_or_symptoms            682\n",
      "treatment                                                    370\n",
      "Name: label, dtype: int64\n"
     ]
    }
   ],
   "source": [
    "print(dataframe['label'].value_counts()) # number of events with there count"
   ]
  },
  {
   "cell_type": "code",
   "execution_count": 13,
   "metadata": {},
   "outputs": [],
   "source": [
    "#dataframe=dataframe.drop(dataframe[(dataframe['label']==\"other_useful_information\")].index)"
   ]
  },
  {
   "cell_type": "code",
   "execution_count": 14,
   "metadata": {},
   "outputs": [],
   "source": [
    "#dataframe[dataframe['label']==\"not_related_or_irrelevant\"]"
   ]
  },
  {
   "cell_type": "code",
   "execution_count": 15,
   "metadata": {},
   "outputs": [],
   "source": [
    "#dataframe.to_csv('crisis3.csv')"
   ]
  },
  {
   "cell_type": "code",
   "execution_count": 16,
   "metadata": {},
   "outputs": [],
   "source": [
    "label1={'other_useful_information':0, 'missing_trapped_or_found_people':1,\n",
    "       'affectedPeople_or_injured_or_dead_people_or_DeathReports':2,\n",
    "       'donation_needs_or_offers_or_volunteering_services':3,\n",
    "       'sympathy_and_emotional_support':4, 'not_related_or_irrelevant':5,\n",
    "       'prevention_or_caution_and_advice':6,\n",
    "       'infrastructure_and_utilities_damage':7,\n",
    "       'disease_transmission_or_disease_signs_or_symptoms':8, 'treatment':9}\n",
    "def label(x):\n",
    "    return label1[x];"
   ]
  },
  {
   "cell_type": "code",
   "execution_count": 17,
   "metadata": {},
   "outputs": [],
   "source": [
    "dataframe[\"numeric_label\"]=dataframe[\"label\"].map(label)"
   ]
  },
  {
   "cell_type": "code",
   "execution_count": 18,
   "metadata": {},
   "outputs": [
    {
     "data": {
      "text/plain": [
       "other_useful_information                                    6231\n",
       "affectedPeople_or_injured_or_dead_people_or_DeathReports    3051\n",
       "donation_needs_or_offers_or_volunteering_services           2288\n",
       "sympathy_and_emotional_support                              1875\n",
       "infrastructure_and_utilities_damage                         1336\n",
       "prevention_or_caution_and_advice                            1282\n",
       "missing_trapped_or_found_people                              751\n",
       "disease_transmission_or_disease_signs_or_symptoms            682\n",
       "treatment                                                    370\n",
       "Name: label, dtype: int64"
      ]
     },
     "execution_count": 18,
     "metadata": {},
     "output_type": "execute_result"
    }
   ],
   "source": [
    "dataframe['label'].value_counts() # number of events with there count "
   ]
  },
  {
   "cell_type": "code",
   "execution_count": 19,
   "metadata": {},
   "outputs": [
    {
     "data": {
      "text/plain": [
       "0    6231\n",
       "2    3051\n",
       "3    2288\n",
       "4    1875\n",
       "7    1336\n",
       "6    1282\n",
       "1     751\n",
       "8     682\n",
       "9     370\n",
       "Name: numeric_label, dtype: int64"
      ]
     },
     "execution_count": 19,
     "metadata": {},
     "output_type": "execute_result"
    }
   ],
   "source": [
    "dataframe['numeric_label'].value_counts() # number of events with there count "
   ]
  },
  {
   "cell_type": "code",
   "execution_count": 22,
   "metadata": {},
   "outputs": [
    {
     "data": {
      "text/plain": [
       "(17866, 4)"
      ]
     },
     "execution_count": 22,
     "metadata": {},
     "output_type": "execute_result"
    }
   ],
   "source": [
    "dataframe.shape"
   ]
  },
  {
   "cell_type": "code",
   "execution_count": 20,
   "metadata": {
    "scrolled": true
   },
   "outputs": [
    {
     "name": "stdout",
     "output_type": "stream",
     "text": [
      "RT @cuteinsan: In this horrible situation in nepal our God  @Gurmeetramrahim  can help pita ji they really need your simpathy #MSGHelpEarthÂ",
      "\n",
      "event extracted>>>\n",
      "sympathy_and_emotional_support\n"
     ]
    },
    {
     "data": {
      "text/plain": [
       "'tweet with corresponding label'"
      ]
     },
     "execution_count": 20,
     "metadata": {},
     "output_type": "execute_result"
    }
   ],
   "source": [
    "print(dataframe['tweet_text'][5])\n",
    "print(\"event extracted>>>\")\n",
    "print(dataframe['label'][5])\n",
    "'''tweet with corresponding label'''"
   ]
  },
  {
   "cell_type": "code",
   "execution_count": 21,
   "metadata": {
    "scrolled": true
   },
   "outputs": [
    {
     "data": {
      "text/plain": [
       "16297"
      ]
     },
     "execution_count": 21,
     "metadata": {},
     "output_type": "execute_result"
    }
   ],
   "source": [
    "dataframe['tweet_id'].nunique() #number of unique tweet ID"
   ]
  },
  {
   "cell_type": "code",
   "execution_count": 23,
   "metadata": {},
   "outputs": [
    {
     "name": "stdout",
     "output_type": "stream",
     "text": [
      "{'ve', 'herself', \"mightn't\", 'few', 'o', 'about', 'as', 'below', 'mustn', 'wasn', 'won', 'yourself', \"it's\", 'theirs', 'both', 'that', 'only', 'a', 'is', 'other', \"you've\", 'him', 'having', 'they', \"doesn't\", 'each', 'what', 'don', \"you'd\", 'my', \"needn't\", 'ours', 't', 'by', 'while', 'y', \"mustn't\", 'why', 'whom', 'over', 'just', 'after', 'up', 'there', 'll', 'it', 'now', \"you're\", 'did', 'ma', 'do', 'itself', 'does', 'above', 'an', 'be', 'shan', 're', 'once', 'own', 'was', 'down', 'this', 'here', 'didn', 'yourselves', 'between', 'and', 'you', 'these', 'm', 'such', 'no', 'than', 'themselves', 'our', 's', \"weren't\", \"should've\", 'nor', 'yours', 'himself', 'has', 'or', \"isn't\", 'should', 'but', 'off', 'ain', 'any', 'her', 'am', \"won't\", \"didn't\", 'hers', 'me', 'its', 'doing', 'she', \"hasn't\", 'if', 'at', 'before', 'to', \"don't\", 'how', 'not', 'were', 'under', 'your', \"you'll\", 'couldn', 'through', 'in', 'mightn', \"haven't\", 'the', \"aren't\", 'shouldn', 'd', 'have', \"that'll\", 'i', 'during', \"shan't\", 'against', 'because', 'for', 'are', 'some', 'on', 'ourselves', 'those', 'again', 'had', \"hadn't\", 'we', 'their', 'aren', 'from', 'further', 'so', 'wouldn', 'will', \"shouldn't\", 'where', 'his', 'very', 'more', 'until', \"wouldn't\", 'been', 'myself', \"couldn't\", 'hadn', \"wasn't\", 'into', 'then', 'isn', 'can', 'all', 'which', \"she's\", 'when', 'haven', 'he', 'who', 'being', 'needn', 'out', 'of', 'with', 'weren', 'most', 'same', 'them', 'hasn', 'doesn', 'too'}\n"
     ]
    }
   ],
   "source": [
    "stop_words = set(stopwords.words('english'))\n",
    "print(stop_words)"
   ]
  },
  {
   "cell_type": "code",
   "execution_count": 24,
   "metadata": {},
   "outputs": [],
   "source": [
    "new_words = [\"RT\",'rt'] #creating a list of extra stop words\n",
    "stop = stop_words.union(new_words) #adding words into corpus"
   ]
  },
  {
   "cell_type": "code",
   "execution_count": 25,
   "metadata": {},
   "outputs": [],
   "source": [
    "sno = nltk.stem.SnowballStemmer('english') #initialising the snowball stemmer"
   ]
  },
  {
   "cell_type": "code",
   "execution_count": 26,
   "metadata": {},
   "outputs": [],
   "source": [
    "def cleanhtml(sentence):\n",
    "    '''This function removes all the html tags in the given sentence'''\n",
    "    cleanr = re.compile('<.*?>')    ## find the index of the html tags\n",
    "    cleantext = re.sub(cleanr, ' ', sentence)  ## Substitute <space> in place of any html tag\n",
    "    return cleantext"
   ]
  },
  {
   "cell_type": "code",
   "execution_count": 27,
   "metadata": {},
   "outputs": [],
   "source": [
    "def cleanpunc(sentence):\n",
    "    '''This function cleans all the punctuation or special characters from a given sentence'''\n",
    "    cleaned = re.sub(r'[?|@|!|^|%|\\'|\"|#]',r'',sentence)\n",
    "    cleaned = re.sub(r'[.|,|)|(|\\|/]',r' ',cleaned)\n",
    "    return  cleaned"
   ]
  },
  {
   "cell_type": "code",
   "execution_count": 28,
   "metadata": {},
   "outputs": [],
   "source": [
    "def preprocessing(series):\n",
    "    '''The function takes a Pandas Series object containing text in all the cells\n",
    "       And performs following Preprocessing steps on each cell:\n",
    "       1. Clean text from html tags\n",
    "       2. Clean text from punctuations and special characters\n",
    "       3. Retain only non-numeric Latin characters with lenght > 2\n",
    "       4. Remove stopwords from the sentence\n",
    "       5. Apply stemming to all the words in the sentence\n",
    "       \n",
    "       Return values:\n",
    "       1. final_string - List of cleaned sentences\n",
    "       2. list_of_sent - List of lists which can be used as input to the W2V model'''\n",
    "    \n",
    "    i = 0\n",
    "    str1=\" \"\n",
    "    final_string = []    ## This list will contain cleaned sentences\n",
    "    list_of_sent = []    ## This is a list of lists used as input to the W2V model at a later stage\n",
    "    \n",
    "    ## Creating below lists for future use\n",
    "    all_positive_words=[] # store words from +ve reviews here\n",
    "    all_negative_words=[] # store words from -ve reviews here\n",
    "    \n",
    "    \n",
    "    for sent in series.values:\n",
    "        ## \n",
    "        filtered_sent = []\n",
    "        \n",
    "        sent = cleanhtml(sent)    ## Clean the HTML tags\n",
    "        sent = cleanpunc(sent)    ## Clean the punctuations and special characters\n",
    "        ## Sentences are cleaned and words are handled individually\n",
    "        for cleaned_words in sent.split():\n",
    "            ## Only consider non-numeric words with length at least 3\n",
    "            if((cleaned_words.isalpha()) & (len(cleaned_words) > 2)):\n",
    "                ## Only consider words which are not stopwords and convert them to lowet case\n",
    "                if(cleaned_words.lower() not in stop):\n",
    "                    ## Apply snowball stemmer and add them to the filtered_sent list\n",
    "                    s = (sno.stem(cleaned_words.lower()))#.encode('utf-8')\n",
    "                    filtered_sent.append(s)    ## This contains all the cleaned words for a sentence\n",
    "                    '''\n",
    "                    if (final['Score'].values)[i] == 'positive':\n",
    "                        all_positive_words.append(s) #list of all words used to describe positive reviews\n",
    "                    if(final['Score'].values)[i] == 'negative':\n",
    "                        all_negative_words.append(s) #list of all words used to describe negative reviews\n",
    "                    '''\n",
    "        ## Below list is a list of lists used as input to W2V model later\n",
    "        list_of_sent.append(filtered_sent)\n",
    "        ## Join back all the words belonging to the same sentence\n",
    "        str1 = \" \".join(filtered_sent)\n",
    "        ## Finally add the cleaned sentence in the below list\n",
    "        final_string.append(str1)\n",
    "        #print(i)\n",
    "        i += 1\n",
    "    return final_string, list_of_sent"
   ]
  },
  {
   "cell_type": "code",
   "execution_count": 29,
   "metadata": {},
   "outputs": [],
   "source": [
    "final_string, list_of_sent = preprocessing(dataframe['tweet_text'])"
   ]
  },
  {
   "cell_type": "code",
   "execution_count": 30,
   "metadata": {},
   "outputs": [
    {
     "data": {
      "text/plain": [
       "17866"
      ]
     },
     "execution_count": 30,
     "metadata": {},
     "output_type": "execute_result"
    }
   ],
   "source": [
    "len(final_string)"
   ]
  },
  {
   "cell_type": "code",
   "execution_count": 31,
   "metadata": {},
   "outputs": [
    {
     "data": {
      "text/plain": [
       "['peopl',\n",
       " 'dead',\n",
       " 'absolut',\n",
       " 'devast',\n",
       " 'countri',\n",
       " 'size',\n",
       " 'oklahoma',\n",
       " 'map',\n",
       " 'nepal']"
      ]
     },
     "execution_count": 31,
     "metadata": {},
     "output_type": "execute_result"
    }
   ],
   "source": [
    "list_of_sent[2]"
   ]
  },
  {
   "cell_type": "code",
   "execution_count": 32,
   "metadata": {},
   "outputs": [],
   "source": [
    "import gensim\n",
    "w2v_model=gensim.models.Word2Vec(list_of_sent,min_count=5,size=50, workers=4)"
   ]
  },
  {
   "cell_type": "code",
   "execution_count": 33,
   "metadata": {},
   "outputs": [
    {
     "name": "stdout",
     "output_type": "stream",
     "text": [
      "2972\n"
     ]
    }
   ],
   "source": [
    "words = list(w2v_model.wv.vocab)\n",
    "print(len(words))"
   ]
  },
  {
   "cell_type": "code",
   "execution_count": 34,
   "metadata": {},
   "outputs": [
    {
     "data": {
      "text/plain": [
       "[('medic', 0.9899135828018188),\n",
       " ('work', 0.9794239401817322),\n",
       " ('provid', 0.9789196848869324),\n",
       " ('respons', 0.9744434952735901),\n",
       " ('med', 0.9688825607299805),\n",
       " ('sanit', 0.9643027782440186),\n",
       " ('team', 0.9606571197509766),\n",
       " ('govt', 0.9601358771324158),\n",
       " ('food', 0.9586820602416992),\n",
       " ('contact', 0.9573441743850708)]"
      ]
     },
     "execution_count": 34,
     "metadata": {},
     "output_type": "execute_result"
    }
   ],
   "source": [
    "w2v_model.wv.most_similar('water')"
   ]
  },
  {
   "cell_type": "code",
   "execution_count": 79,
   "metadata": {},
   "outputs": [],
   "source": [
    "def calc_tfidf_avg_w2v(list_of_sent, w2v_model, tf_idf, tfidf_feat):\n",
    "    '''This function takes in 4 parameters as follows:\n",
    "       1. list_of_sent - This is the list of sentences/reviews for which sentence vetors are to be constructed\n",
    "       2. w2v_model - This is the Word2Vec model which is trained on the working corpus - contains the word vectors\n",
    "       3. tf_idf - This is the TF-IDF model built using the same reviews/sentences - it is the TF-IDF sparse matrix\n",
    "       4. tfidf_feat - This is the feature vector constructed from the TF-IDF model\n",
    "       \n",
    "       Return Value:\n",
    "       tfidf_sent_vectors - This is a list of sentence/review vectors constructed by using tfidf weighted average on the word vectors\n",
    "    '''\n",
    "    \n",
    "    ## Initialize an empty list\n",
    "    tfidf_sent_vectors = []\n",
    "    row = 0\n",
    "    ## Consider one sentence/review at a time\n",
    "    for sent in list_of_sent:\n",
    "        ## Initialize sentence vector to 0\n",
    "        sent_vec = np.zeros(50)\n",
    "        ## Initialize weighted sum to 0\n",
    "        weighted_sum = 0\n",
    "        ## Consider the words one by one\n",
    "        for word in sent:\n",
    "            try:\n",
    "                ## Calculate the word vector using the W2V model\n",
    "                vec = w2v_model.wv[word]\n",
    "                ## Calculate tfidf value of the word in that review using tfidf model\n",
    "                tfidf = tf_idf[row, tfidf_feat.index(word)]\n",
    "                ## Add the product of tfidf*word_vec to the sentence vector (This is the numerator)\n",
    "                sent_vec += vec*tfidf\n",
    "                ## Sum all the tfidf values (This is the denominator)\n",
    "                weighted_sum += tfidf\n",
    "            except:\n",
    "                pass\n",
    "        #print(row, weighted_sum)\n",
    "        \n",
    "        ## Divide the numerator by the denominator to get the sentence vector\n",
    "        sent_vec /= weighted_sum\n",
    "        ## Add the sentence vector in the final list\n",
    "        tfidf_sent_vectors.append(sent_vec)\n",
    "        row += 1\n",
    "    ## return the list of all the sentence vectors\n",
    "    return tfidf_sent_vectors"
   ]
  },
  {
   "cell_type": "code",
   "execution_count": 80,
   "metadata": {},
   "outputs": [],
   "source": [
    "## Preparing the data to call the function\n",
    "\n",
    "## Make sure \"list_of_sent\" is imported from the pickle file\n",
    "tf_idf_vect = TfidfVectorizer()\n",
    "tf_idf = tf_idf_vect.fit_transform(final_string)\n",
    "tfidf_feat = tf_idf_vect.get_feature_names()\n",
    "w2v_model=gensim.models.Word2Vec(list_of_sent,min_count=5,size=50, workers=4)"
   ]
  },
  {
   "cell_type": "code",
   "execution_count": 81,
   "metadata": {},
   "outputs": [
    {
     "name": "stderr",
     "output_type": "stream",
     "text": [
      "C:\\Users\\shailesh\\Anaconda3\\lib\\site-packages\\ipykernel_launcher.py:37: RuntimeWarning: invalid value encountered in true_divide\n"
     ]
    }
   ],
   "source": [
    "tfidf_sent_vectors = calc_tfidf_avg_w2v(list_of_sent, w2v_model, tf_idf, tfidf_feat)"
   ]
  },
  {
   "cell_type": "code",
   "execution_count": 82,
   "metadata": {},
   "outputs": [
    {
     "data": {
      "text/plain": [
       "17866"
      ]
     },
     "execution_count": 82,
     "metadata": {},
     "output_type": "execute_result"
    }
   ],
   "source": [
    "len(tfidf_sent_vectors)"
   ]
  },
  {
   "cell_type": "code",
   "execution_count": 83,
   "metadata": {},
   "outputs": [
    {
     "data": {
      "text/plain": [
       "(17866, 50)"
      ]
     },
     "execution_count": 83,
     "metadata": {},
     "output_type": "execute_result"
    }
   ],
   "source": [
    "tfidf_vec_array=np.array(tfidf_sent_vectors)\n",
    "tfidf_vec_array.shape"
   ]
  },
  {
   "cell_type": "code",
   "execution_count": 84,
   "metadata": {},
   "outputs": [
    {
     "data": {
      "text/plain": [
       "(17861, 50)"
      ]
     },
     "execution_count": 84,
     "metadata": {},
     "output_type": "execute_result"
    }
   ],
   "source": [
    "## Remove all the rows from the array which contain NaN values\n",
    "tfidf_vec_array1 = tfidf_vec_array[~np.isnan(tfidf_vec_array).any(axis = 1)]\n",
    "tfidf_vec_array1.shape"
   ]
  },
  {
   "cell_type": "code",
   "execution_count": 85,
   "metadata": {},
   "outputs": [],
   "source": [
    "where_are_nans=np.isnan(tfidf_vec_array)"
   ]
  },
  {
   "cell_type": "code",
   "execution_count": 86,
   "metadata": {},
   "outputs": [],
   "source": [
    "tfidf_vec_array[where_are_nans]=0"
   ]
  },
  {
   "cell_type": "code",
   "execution_count": 87,
   "metadata": {},
   "outputs": [],
   "source": [
    "y=dataframe['numeric_label'].values"
   ]
  },
  {
   "cell_type": "code",
   "execution_count": 88,
   "metadata": {},
   "outputs": [],
   "source": [
    "from sklearn.model_selection import train_test_split"
   ]
  },
  {
   "cell_type": "code",
   "execution_count": 89,
   "metadata": {},
   "outputs": [],
   "source": [
    "X_train, X_test, y_train, y_test = train_test_split(tfidf_vec_array, y, test_size = 0.1, random_state = 123)"
   ]
  },
  {
   "cell_type": "code",
   "execution_count": 90,
   "metadata": {},
   "outputs": [],
   "source": [
    "from sklearn import metrics"
   ]
  },
  {
   "cell_type": "code",
   "execution_count": 91,
   "metadata": {},
   "outputs": [
    {
     "name": "stdout",
     "output_type": "stream",
     "text": [
      "acuuracy>>>> 66.31225517627308\n"
     ]
    }
   ],
   "source": [
    "from sklearn.svm import LinearSVC\n",
    "linear_svc_model = LinearSVC() # note perform changes in attribute to get bettter accuracy\n",
    "linear_svc_model.fit(X_train,y_train)#passing data into model for training\n",
    "y_pred=linear_svc_model.predict(X_test)#after training we pass rest 20%of data for testing purpose\n",
    "acc=metrics.accuracy_score(y_test,y_pred) \n",
    "#here we are passing actual result and predicted result to find out accuracy\n",
    "print('acuuracy>>>>',acc*100)"
   ]
  },
  {
   "cell_type": "code",
   "execution_count": 92,
   "metadata": {},
   "outputs": [
    {
     "data": {
      "text/plain": [
       "['reach kathmandu final lot indian strand airport nepalquak bbchindi',\n",
       " 'fear foreign miss nepal earthquak death toll',\n",
       " 'peopl dead absolut devast countri size oklahoma map nepal',\n",
       " 'earthquak nepal pleas help kapil crowdfund fundrazr support retweet via mechanismofwar',\n",
       " 'slow economi set freefal without help kszimvhgqf via busi',\n",
       " 'horribl situat nepal god gurmeetramrahim help pita realli need simpathi msghelpearthâ',\n",
       " 'video report kathmandu overwhelm rubbl earthquak dead plus injur nepalearthquak',\n",
       " 'peopl nepal need help find support relief effort',\n",
       " 'nepal earthquak deathtol rise nepalearthquak prayfornep earthquak',\n",
       " 'aid lorri deliv nepalearthquak relief hand landslid prevent vehicl access',\n",
       " 'food crisi immin million ppl kathmandu long would last without food market water tap',\n",
       " 'canadian phone compani waiv fee call nepal globe mail',\n",
       " 'word ramdev nepal help peopl that qualiti work peopl talk ill',\n",
       " 'dont believ earthquak happen natur mother natur theyr provok avoid',\n",
       " 'death toll soar need acut nepal capit villag via yahoonew',\n",
       " 'kathmandu quak aftermath clear rubbl search survivor oasyanweip',\n",
       " 'time reinforc rltns nepal stand side let use exprinc kashmir yemen pmoindia meaindia',\n",
       " 'nepalquak team head nepal pxsfvmojdi',\n",
       " 'timesofindia whole world watch great work nepal proud rss',\n",
       " 'pray nepal',\n",
       " 'bureau immigr instruct give grati visa tourist strand nepal come',\n",
       " 'instead food medicin tent ford foundat sent copi bibl nepal starv citizen',\n",
       " 'teamyamita report grace hope found amid destruct nepal unet teamyamita',\n",
       " 'parent nepal catherin lassez pleas help find nepal redcross nepalearthquak',\n",
       " 'wow pray peopl affect massiv earthquak nepal',\n",
       " 'thought peopl nepal',\n",
       " 'two aid plane reach nepal nation xhuzdxfftn',\n",
       " 'nepal oper maitri provid succor',\n",
       " 'ndrf indian armi forc remark job nepal',\n",
       " 'aid string aftermath nepal earthquak expos asia geopolit fault line',\n",
       " 'foreign seci helicopt posit kathmandu part rescu op nepalquak httpâ',\n",
       " 'quak toll rise nepal pope franci offer prayer victim elmxxxbtxn',\n",
       " 'followm indian carrier cap fare bid pull man followback follow',\n",
       " 'mount everest british woman escap death outrun avalanch',\n",
       " 'israel evacu babi isra parent nepal see world news',\n",
       " 'see india rescu oper villag affect nepal dead earthquak lcmdoâ',\n",
       " 'anoth bit longer tremor nepalearthquak',\n",
       " 'donat nepal havent diseas usual follow earthquak',\n",
       " 'nepalearthquak pray nepal nepalquak earthquak',\n",
       " 'nepalearthquak death toll offici offici announc ibnkhabar ibnliv nanditathhakur',\n",
       " 'death toll rise make heart sink emerg declar nepal pls contribut pms relief fund',\n",
       " 'write nepalemergencyuscst gov question citizen affect nepalquak',\n",
       " 'pak dispatch four plane carri field hospit medic team relief suppli nepal htâ',\n",
       " 'nepal govt ask india help respect rescu medic team msghelpearthquakevictim venxtcfâ',\n",
       " 'suhelseth plz updat list emerg contact nepalearthquak',\n",
       " 'major build india weather impact nepal earthquak econom time mobil ekjemvawjg',\n",
       " 'india step relief work nepal land rout oper airport get congest',\n",
       " 'olivettachant new beauti pic babi rescu nepal earthquak olivettachant',\n",
       " 'learn mountain ecosystem earthquak nepal sec',\n",
       " 'quak destroy build nepal capit mcvwhgfngf',\n",
       " 'aftershock hit nepal two day player god earthquakeagain pleas',\n",
       " 'heartbreak report anoth avalanch everest fresh earthquak nepal',\n",
       " 'japan pledg donat nepal reconstruct relief',\n",
       " 'annyawesom video mountain arjun vajpai show landslid mount everest nepal earthquak',\n",
       " 'heart goe peopl effect earthquak nepal liter',\n",
       " 'allah forgiv love forgiv forgiv usf nepalearthquak prayfornep',\n",
       " 'new jersey woman among nepal earthquak victim nbc new york nynejkptl newyork',\n",
       " 'garylinek support nepalearthquak appeal help build back better safer scâ',\n",
       " 'earthquak india nepal via rashidfaridi',\n",
       " 'want know provid assist aftermath nepalearthquak read iqokpjyahv',\n",
       " 'australian commerci flight book nepal tomorrow today get plane wait',\n",
       " 'priyankachopra share blood requir kathmandu contact adhikari',\n",
       " 'expert gather nepal week ago disast happen bet made sure famili member knew',\n",
       " 'nepalearthquak digit humanitarian respons matter help feat humdata',\n",
       " 'asimbajwaispr sir need manpow earthquak victim nepal avail valunt wanna help',\n",
       " 'pleas join prayer nepal bereav famili kill injur csjqnsnkfo',\n",
       " 'heard friend deepak irshad red cross camp nepal pleas help locat',\n",
       " 'let strong rebuild ident prayfornep nepalearthquak',\n",
       " 'pleas consid give assist nepal affect nepal nepalearthquak interdepend compass lpycsrlpjl',\n",
       " 'dead dozen injur india nepal quak',\n",
       " 'damn earthquak nepal heartbreak',\n",
       " 'axj nepal massiv earthquak',\n",
       " 'least dead avalanch mount everest author say nepalquak kfzniellgx',\n",
       " 'nepal polic arrest small store owner kathmandu whore inflat price daili good',\n",
       " 'nepal spicejet cut airfar set oper flight kathmandu via sharethi',\n",
       " 'text nepal make donat unicef aid effort nepal everi littl bit help',\n",
       " 'pleas help donat nepalquak nepalearthquak tip organis donat yzgrjpvlfr',\n",
       " 'aftershock nepalquak mean peopl still sleep outdoor rain predict next three day',\n",
       " 'saw happen nepal love prayer peopl didnt surviv famili prayingfornep',\n",
       " 'let rememb keep nepal prayer well',\n",
       " 'tremor decreas nepalquak ydvaejcayl',\n",
       " 'prayer nepal peopl',\n",
       " 'aerial footag nepal reveal earthquakeâ devast',\n",
       " 'zero valu ticket provid needi ner nepalearthquak zero valu ticket need mrâ',\n",
       " 'avalanch report mount everest region power earthquak nepal',\n",
       " 'would like make donat toward disast relief nepal fellowship',\n",
       " 'bless nepal right straight disast',\n",
       " 'prayer struck nepal earthquak natur furi incompar share emerg contact silentpray httpâ',\n",
       " 'nepalearthquak friend roseannaavento nepal pray safe well also anxious hear news jackkinross',\n",
       " 'may lord bless everybdi nepal rough period hope everi nation come wit aid god bless everi',\n",
       " 'raf aircraft load vital aid suppli help nepalearthquak victim',\n",
       " 'nepal key histor what rubbl what still stand wake devast earthquak',\n",
       " 'send specialist team nepal pleas help maximis benefit offer rapaiujtwf',\n",
       " 'pls help nepal earthquak fund donat spread word everi dollar',\n",
       " 'prayfornep pleas rezapornep por favor reformanacion aristeguicnn',\n",
       " 'indian base forc amaz iaf amaz help modi evacu nepal nepalearthquak',\n",
       " 'pray peopl nepal mani lost live',\n",
       " 'nepal earthquak aftermath via bbchindi',\n",
       " 'death toll nepal earthquak',\n",
       " 'rss appeal nepal earthquak relief fund rss rescu work continu nepal day ckuihbqiog',\n",
       " 'ndrf team sent affect bjprajnathsingh nepalearthquak',\n",
       " 'nepalquakerelief follow updat websit donat medic disast respons camp gorkha',\n",
       " 'here circuskathmandu durbar pile rubbl donat',\n",
       " 'hey abbott karl propaganda ad million foreign aid nepal earthquak million fuck auspol intergenerationalreport',\n",
       " 'two ntu student share experi sleep street aftermath nepalquak zndrovjcfu',\n",
       " 'youth biratnagar standbi need quakenep youthforblood',\n",
       " 'provid addit million assist nepalquak emerg',\n",
       " 'pictur leav speechless god work miracl littl angel save nepalquakerelief',\n",
       " 'expressfrontpag earthquak bad damag prepar nepal htpvijpvcr',\n",
       " 'xtian pastor arriv nepal happi see destruct ask rebuilt templ sushmaswaraj meaindia httpsâ',\n",
       " 'hope find way someth victim nepal dire situat text',\n",
       " 'surviv drink muddi water say man rescu hour nepalquak qrxvokcbam',\n",
       " 'still cant get thru custom care number nepalquakerelief',\n",
       " 'shreejana came hous mani hous alreadi collaps peopl cri nepalearthquak',\n",
       " 'monk prayer nepal earthquak',\n",
       " 'dead worst nepal earthquak die india nepalearthquak earthquak',\n",
       " 'shiv sena mps give month salari pmoindia relief fund nepalquakerelief standwithnep',\n",
       " 'send love affect earthquak hit nepal earthquak nepalquak',\n",
       " 'salut indian armi narendra modi send relief nepal',\n",
       " 'death toll morn earthquak nepal',\n",
       " 'nepal need help pleas text redcross give relief visit donat',\n",
       " 'girl safe drink water inform camp kathmandu nepalearthquak glbâ',\n",
       " 'shock news earthquak nepal pray safeti affect',\n",
       " 'send charter plane inflat hospit bordeaux tomorrow nepalearthquak',\n",
       " 'death toll nepal quak pass aftershock terror capit',\n",
       " 'world helicopt evacu nepal earthquak victim mudslid increas gorkha pyypyyeftr',\n",
       " 'money would built strong hous none place nepal',\n",
       " 'report describ level nepalquak destruct tibet chines onlin paper',\n",
       " 'econom impact nepal quak like one estim put reconstruct bill',\n",
       " 'could defin imag stori babi miracl rescu coâ',\n",
       " 'thank tune well right back updat nepalearthquak',\n",
       " 'thought prayer nepal nepali peopl nepalearthquak staystrong prayfornep',\n",
       " 'nepal govern take serious legal action black market peopl peopl spread rumor napalearthquak',\n",
       " 'pray nepal save mari jane veloso lord pleas guid your strengh spirit pleas',\n",
       " 'nepalearthquak eighteen bodi recov mount everest base camp follow latest',\n",
       " 'nepal relief effort cbf partner trust local agenc field personnel alreadi work',\n",
       " 'eager plan holiday trip nepal earlier shock see current state beauti nation hope god merci',\n",
       " 'pleas pray support peopl nepal nepalearthquak prayfornep',\n",
       " 'prayer peopl nepal detail doctor area earthquak',\n",
       " 'india becom saviour countri earlier operationraahat operationmaitri salut rip soul die nepalearthquak',\n",
       " 'earthquak jolt nepal india bangladesh nepal appear affect advers need help countri',\n",
       " 'rhtwivsphw danfredinburg dan fredinburg googl exec avid climber dan fredinburg kill massiv nepal quakâ',\n",
       " 'arriv kathmandu help actionaid relief work flew mani search rescu team nepalquak httpâ',\n",
       " 'death toll rise report confirm near dead nepal earthquak',\n",
       " 'nepal india connect mani way faith histori fearless servic gorkha ouâ',\n",
       " 'world news blog nepal quak kill trap climber mount everest',\n",
       " 'new imag nepalearthquak ground displac blue uplift yellow subsid',\n",
       " 'inspir pictur reveal babi pull aliv rubbl nepal earthquak',\n",
       " 'srbachchan embassi india kathmandu control room number',\n",
       " 'heart everyon nepal may profit nepal black tea donat help fund recoveâ',\n",
       " 'small nepalquak school day offic day lot ill take',\n",
       " 'need pray world live dont want situat like nepal agre',\n",
       " 'nepalearthquak iaf helicopt fli almost sinc morn',\n",
       " 'nepal quak death toll top villag plead death toll nepal devast earthq',\n",
       " 'text give nepal donat nepal earthquak relief fund take screenshot tagâ',\n",
       " 'aap must happi nepalearthquak coz divert media attent aaprallymurd time aapkilledfarm',\n",
       " 'budget airlin offer free flight nepal aid agenc news',\n",
       " 'worst earthquak year leav least dead',\n",
       " 'nepalearthquak greatest earthquak region oct peopl india pakistan read report zcatubbaum',\n",
       " 'aid group knew nepalearthquak would disast rais enough money help',\n",
       " 'heart go peopl nepal right sade',\n",
       " 'serious cant bare shit longer need help nepal',\n",
       " 'occypi capit help earthquak victim know earlier stop poverti',\n",
       " 'spain seek help get nation nepal time india via timesofindia',\n",
       " 'intern aid rescu team continu arriv kathmandu nepalearthquak',\n",
       " 'dog india franc assist rescu oper nepal ujyyywqhbw',\n",
       " 'also villag near nepal epicent desper death toll top nribwsheja',\n",
       " 'nepalearthquak pleas viberhelp announc free call nepal kathmandu nxfjweeahh',\n",
       " 'await await one goharshahi nepal nepalearthquak helpnep earthquak endtimessign mounteverest',\n",
       " 'prayfornep peopl die dead earthquak nepal rescu effort everest underway httâ',\n",
       " 'baltimor riot peopl die nepal today',\n",
       " 'huge destruct nepalearthquak prayfornep letshelpnep letsactindonesia via doalcarcarmen dmâ',\n",
       " 'nepal reopen rout mount everest earli next week least peopl die earthquak nqmsâ',\n",
       " 'delhi fli rescu team medic suppli relief materi',\n",
       " 'know wont let hope head thankyoupm saviourpm indiawithnep nepalearthquak',\n",
       " 'prayer peopl nepal got affect earthquak pakstandswithnep',\n",
       " 'mother son miss nepal mother spread',\n",
       " 'prayfornep light candl tonight pleas take littl time dailyâ hihtjzdlsk',\n",
       " 'heard rumour donat gabbarisback day collect nepalearthquak victim cont',\n",
       " 'see absolut devast photo video come nepal cant help shake',\n",
       " 'devast hear happen prayer affect earthquak may mani rest peac',\n",
       " 'gurkha fought britain year time repaid favour donat',\n",
       " 'singfornep chariti concert pray nepal pantip via',\n",
       " 'quak devast nepal join support musicforrelief provid immedi medic care food water textâ',\n",
       " 'doctor chennai work togeth help victim nepal earthquak',\n",
       " 'support popul impact recent earthquak nepal decid offer free call nepal thâ',\n",
       " 'earth shook nepal result destruct massiv rldup',\n",
       " 'anyon send emerg suppli nepalearthquak indianredcross pls let know send',\n",
       " 'constant stream hindu cremat funer kathmandu victim worker tell nepalquak',\n",
       " 'rescu attempt continu tuesday near epicent weekend earthquak nepal kill',\n",
       " 'thought prayer lost live much recov result earthquak',\n",
       " 'gujarati evacu nepal given transit stay gujarat bhavan delhi thank goi care httpâ',\n",
       " 'delhi govt decid send packet food pouch drink water relief peopl earâ',\n",
       " 'bismillah break news least miss mount everest includ mani nepalearthquak',\n",
       " 'usg say kathmandu region hit magnitud aftershock',\n",
       " 'arianagrand pleas help nepal pleas donat help save precious live nepal thank nepalearthquak',\n",
       " 'relief fund use help ebola countri help nepal',\n",
       " 'everytim disast strike shop keeper exponenti hike price good water sell bottl nepalquak',\n",
       " 'donat help careintuk get emerg suppli famili hit nepal earthquak',\n",
       " 'narendramodi polit career built rebuild home state gujarat earthqâ',\n",
       " 'resili nepal reconstruct rebuild india must continu lend hand via josephjett',\n",
       " 'quak aftermath widen nepal polit earthquak jolt nepal last week also sent shock',\n",
       " 'hospit nepal alreadi overwhelm earthquak victim say planglob',\n",
       " 'pray nepal avrillavign avrillavigneid avrillavignegrt avrillavignebdg avrilfound msweslavign',\n",
       " 'facilit transport relat affect nepalearthquak northern railway made certain arrangementsâ',\n",
       " 'updat home ministri offici say peopl die earthquak measur magnitud struck neâ',\n",
       " 'nepal johnkerri send disast team initi million toâ news busi',\n",
       " 'mos isht denim prej zotit two day anim violent slaughter nepal pleas goddess',\n",
       " 'donat redcross via changetip that everi hour easi donat yet nepaleâ',\n",
       " 'affect person disast truli realiz harm caus thank friend alright nepal',\n",
       " 'live footag earthquak kathmandu via youtub definit see literalgoosebump',\n",
       " 'thought prayer brother sister nepal nepalquak',\n",
       " 'dinosofo michaelpdeacon scandal suppress cchq propaganda letter displac nepal tragedi front page discredit',\n",
       " 'shake save mother natur pray nepal earthquak end seem near screamnshout rectar',\n",
       " 'strand trekker send sos nepal quak read yzyzdhbjyd',\n",
       " 'build collaps kathmandu day nepalquak nan tsai jen dxzhzyhudb',\n",
       " 'deepli sadden see destruct nepal today thought wateraidnep compatriot',\n",
       " 'visit learn assist impact nepal help',\n",
       " 'modisarkaar zindabad chant grow loud wid swift respons appreci thnks narendramodi indiawithnep',\n",
       " 'nepal earthquak relief mission welcom donat rrnoqcajeo changepenang',\n",
       " 'tension rise nepal respons deadlyâ quak',\n",
       " 'nightmar still prayfornep',\n",
       " 'canin disast search team enrout nepal click latest updat pxhuozplir searchdog usar',\n",
       " 'rss forgotten nepal sovereign countri protest pakistan sent beef behalf nepal probleâ',\n",
       " 'prayer friend peopl nepal hope love one safe sound',\n",
       " 'ukip support probabl hide nepalearthquak sinc basic vote parti want reduc foreign aid',\n",
       " 'rescuer nepal reach remot communiti',\n",
       " 'boy rescu kathmandu rubbl mani villag still strand',\n",
       " 'indian rescu nepal reach delhi nepalearthquak',\n",
       " 'oxfam ireland launch emerg appeal nepalearthquak',\n",
       " 'earthquak soooo funni nepal quak reveal social media avatar sit cab mumbai',\n",
       " 'pontifex lead crowd peter pray hail mari victim earthquak nepal',\n",
       " 'nepalearthquak two globemast iii iaf load medic suppli hindon take',\n",
       " 'wish send relief materi nepal pleas call nikunj inform pleas send godown',\n",
       " 'dioces lancast pope pray victim massiv earthquak nepal',\n",
       " 'aw least dead nepal accord polic anoth kill india tibet bangladesh httpâ',\n",
       " 'pleas share earthquak helplin number nepalearthquak nepal earthquak tinucherian',\n",
       " 'kathmandu airport close follow nepalearthquak challeng get peopl trap collaps build dark',\n",
       " 'perth famili desper nepal news west australian news',\n",
       " 'may god grant peac nepal protect bring aid nepalearthquak',\n",
       " 'blanket soap cloth arriv nepal today need nepalearthquak ciâ',\n",
       " 'death toll earthquak aftershock rose accord nepal polic offici',\n",
       " 'nepal quak bodi three day pashupatinath pyre keep burn httâ',\n",
       " 'thought prayer good men women head nepal safetravel safework usar',\n",
       " 'listen everest updat climberjim talk cnn base camp qymsqgrnyt nepalearthquak',\n",
       " 'tourism take massiv hit ljuvbfepju via timesofindia',\n",
       " 'prayer nepal help come',\n",
       " 'cancel foreign aid indonesia current budget estim send nepal instead auspol',\n",
       " 'kathmanduearthquak kathmandu earthquak injur irish climber flown kathmandu eaâ httâ',\n",
       " 'aircraft leav kathmandu rescu pakistani',\n",
       " 'thousand dead nepal two australian execut news',\n",
       " 'nepal declar state emerg death toll earthquak near bbcnew via break',\n",
       " 'nepal declar day mourn quak victim',\n",
       " 'suesherm pleas help find nina stechmann leoni elsner german nepalearthquak auswaertigesamt langtang',\n",
       " 'thought peopl nepal nepalearthquak nepalquak',\n",
       " 'heart goe peopl nepal',\n",
       " 'amnesti staff board famili confirm safe nepalquak impact terrifi say friend kathmandu amneâ',\n",
       " 'pmolndia due shortag nepal journalist photograph etc shld restrict nepal govt shld',\n",
       " 'earthquak nepal sooo sad news guru gurmeetramrahim help earthquak victim msghelpearthquakevictim httpâ',\n",
       " 'dear pleas get plane nepal photographi art',\n",
       " 'putrajaya move bring malaysian back nepal today bernama',\n",
       " 'sewadar go nepal holi guidanc gurmeetramrahim msghelpearthquakevictim',\n",
       " 'wish get task help rescu nepal qatar pray famili survivor nepalearthquak',\n",
       " 'student manoa spend day rais money nepal',\n",
       " 'whatev home ministri give order tri provid everi possibl nadda union health min nepalearthquak',\n",
       " 'iaf help rescu person nepalearthquak deboard air forc station palam new delhi',\n",
       " 'estim million peopl expos earthquak shake',\n",
       " 'doctor assembl team help find save nepal quak victim kansasc newz theusnewz april',\n",
       " 'nepalearthquak deadliest earthquak yrs leav million children danger donat',\n",
       " 'everyon safe friend nepal near place feel worri kalyanpur west',\n",
       " 'miser site see pleas send help ddd prayfornep nepalearthquak',\n",
       " 'pakistan send rescu team nepal pakistan sent four aircraft carri hospit special',\n",
       " 'readi send medic team surviv kit nepal pls donat disast fund',\n",
       " 'sootradhar differ school thought thankyoupm indiawithnep kejomuvdju',\n",
       " 'nepalearthquak pleas donatefornep',\n",
       " 'great see actionaid intern nepales team work tireless local movement respons',\n",
       " 'nepalearthquak nepal govern helplin',\n",
       " 'initi thought respond nepal sophiabush clintonfdn possiblehealth',\n",
       " 'nepal step rescu effort amid global aid rush tonaybsxmk',\n",
       " 'nepalquakerelief intens map quak work go take long need volunt world',\n",
       " 'fortun friend parent safe nepalearthquak shaken hope nepal get assistanceâ',\n",
       " 'peopl nepal need help donat fund earthquak relief recoveri',\n",
       " 'thousand queue outsid kathmandu airport hope way ffmgwwoosl',\n",
       " 'death toll nepal magnitud earthquak climb',\n",
       " 'iaf mlhs posit pokahra helicopt sorti schedul lukla dhade millanchi gorkha today nepalearthquak',\n",
       " 'crucial surviv nepal great org alreadi infrastructur set distribut rural area',\n",
       " 'bloodi vatican douchebag rejoic disast open window carri mission nepalearthquak soulvultur httâ',\n",
       " 'nepal michell yeoh husband jean todt among strand',\n",
       " 'bodi retriev debri nepal histor tower outlook wire',\n",
       " 'raw footag powerful earthquak kathmandu nepal uiherbgdul',\n",
       " 'histor dharahara tower built collaps kathmandu quak',\n",
       " 'situat nepal heartbreak your abl pleas give dec nepalquâ',\n",
       " 'kathmandu airport shut follow magnitud read full stori kathmandu airport shut dow',\n",
       " 'tune tomorrow night oncampus six way give nepal earthquak relief ijhhmqemiq via timeworld',\n",
       " 'raxaul bihar border colleagu dpradhanbjp relief work help affâ',\n",
       " 'help give nepal earthquak relief fund rais fund indiegogolif',\n",
       " 'spokespersonmod nepalearthquak carri strand indian land palam short ago',\n",
       " 'peopl kill kathmandu power earthquak nepal ministri home affair say via cnnbrk',\n",
       " 'queen shock appal loss life nepalearthquak send prayer victim buckingham palac',\n",
       " 'nepalearthquak one superhercul aircraft iaf taken hindan ndrf team kathmanduâ',\n",
       " 'nepal hasnt deal anoth hope storm bring water destruct',\n",
       " 'kathmandu airport welcom sign reduc rubbl',\n",
       " 'nepalearthquak casualti evacu trishuli bazar kathmandu',\n",
       " 'around rescu mount everest earthquak say nepal tourism around peopl rescu mou',\n",
       " 'srbachchan thought prayer ppl nepal',\n",
       " 'peopl kathmandu liter spent night street lay carpet streetsid nepal fdoaâ',\n",
       " 'nepal',\n",
       " 'india sent ton relief materi team doctor ndrf jcbs food water medicin nepal',\n",
       " 'pleas offer prayer mani effect sever earthquak kathmandu nepal rinpoch famili nepal areâ',\n",
       " 'britain play lead role nepal aid humanitarian oper say cobra chair',\n",
       " 'earthquak nepal left thousand famili need aid gift help pleas give coâ',\n",
       " 'incred drone footag nepal heritag spot show widespread damag aozâ',\n",
       " 'power earthquak strong aftershock hit nepal',\n",
       " 'foreign secretari alreadi start rescu effort nepalquak',\n",
       " 'franktbh heart goe victim nepal ladi gaga',\n",
       " 'colleagu acut need orthopaed surgeon cardiothorac surgeon trauma specialist nepalquakerelief',\n",
       " 'one gospel preacher nepal',\n",
       " 'nepal earthquak trigger everest avalanch climber risk time india',\n",
       " 'presid obama call nepal prime minist offer help earthquak recoveri',\n",
       " 'emir red crescent send aid nepal araanvtapq',\n",
       " 'respons immedi respons contribut expert',\n",
       " 'lesson ebola ratio tech approach humanitarian relief nepal',\n",
       " 'survivor avalanch everest base camp flown nepal injuri deem xdildymâ',\n",
       " 'condol prc send manila phili manila philippin',\n",
       " 'rescu plane reach kathmandu earthquak kill peopl includ',\n",
       " 'woman breastfe babi sit amongst rubbl hous majuwa kathmandu nepalearthquak httpâ',\n",
       " 'riot polic battl contain crowd tri leav kathmandu',\n",
       " 'crazi thinkin go nepal massiv earthquak',\n",
       " 'nepal fatal grow death toll stagger help need ask govern contact counâ',\n",
       " 'event scsu hope nepal redcross april',\n",
       " 'nepal prime death toll could reach',\n",
       " 'news nepal scari horrifi deepest sympathi condol affect',\n",
       " 'bapuji guidanc asaram bapu ashram come ahead massiv relief work nepal earthquak victim',\n",
       " 'nepalearthquak high grate narendramodi lead front help nepali peopl thank',\n",
       " 'thought prayer nepal',\n",
       " 'ground respond nepalearthquak donat help fbvyldkaai',\n",
       " 'happi birthday respons volunt nicola hind lizodel nepal help earthquak',\n",
       " 'nation helplin nation disast manag author nepal earthquak open nepalearthquak',\n",
       " 'let prayfornep',\n",
       " 'well pray prayfornep stay strong dont give bfb',\n",
       " 'prayer lost confirm dead nepal via aol',\n",
       " 'observ front page sunday april nepal quak kill spread terror everest',\n",
       " 'one bbc news post nepalquak last weekend page fan nepal india',\n",
       " 'raf left nepal carri vital aid stock team gurkha engin httpâ',\n",
       " 'quick access use data humdata design unpreced humanitarian world',\n",
       " 'famous nepales taglin ill die countri shine nepalearthquak',\n",
       " 'facebook add donat button atop news feed aid nepal haodnoflwx',\n",
       " 'dan fredinburg engin googl die mount everest avalanch caus earthquak nepal',\n",
       " 'must find miss peopl nepal earthquak tssoqfskff',\n",
       " 'great show uniti belfast stand togeth vigil victim nepalearthquak',\n",
       " 'everi one need support nepal earthquakeagain',\n",
       " 'mother surviv hrs rubbl build nepalquak bare scratch',\n",
       " 'earthquak estim magnitud shook nepal saturday near capit katmandu',\n",
       " 'thought prayer proud brave peopl nepal devast tragedi god bless',\n",
       " 'nepal pain narendramodi',\n",
       " 'jimmyfallon way nepal help rebuild shelter orphan could help fund thank',\n",
       " 'confirm dead nepal happen bad time day peopl werein build school work msghâ',\n",
       " 'look way someth survivor nepalquak join friend wfp give lifesav food uzmâ',\n",
       " 'retweet prayfornep god help thi name reliev nepal grant thi succor let know thi',\n",
       " 'keep miss famili nepal thought prayer send posit vibe',\n",
       " 'jst got pic kunal deshmukh airport tri board iaf flight kathmandu even httpâ',\n",
       " 'poetic tribut nepalquak tumbhiartist',\n",
       " 'pray without ceas baltimor nepal florida africa israel',\n",
       " 'face disast one hope nepal get earth quak asap cheer',\n",
       " 'magnitud aftershock regist kathmandu region nepal largest aftershock record sinc saturday earthquak nbcnew',\n",
       " 'govern send truck carri relief materi affect nepalearthquak',\n",
       " 'okhaldhunga sunsari bhojpur solukhumbu die far eastern part nepal accord region polic',\n",
       " 'report quot nepal polic say death toll rise nepalearthquak via reutersworld',\n",
       " 'heartbreak sophia bush dan fredinburg die follow nepal earthquak',\n",
       " 'art live centr kathmandu convert shelter camp peopl lost home httpâ',\n",
       " 'mani shock peopl still home hospit situat terribl nepal earthquak',\n",
       " 'rannvijaysingha dude think part contribut nepal relief think good way help',\n",
       " 'nepal peopl die mani home build got crush earthquak recent',\n",
       " 'search rescu team includ dog search survivor nepal donat',\n",
       " 'ndrf rescu individu recov dead bodi evacu peopl nepal thankyoupm bjp',\n",
       " 'want help peopl nepal donat reach local partner ground htâ',\n",
       " 'prayer wellb peopl nepal earthquak affect area msghelpearthquakevictim',\n",
       " 'power earthquak hit kathmandu',\n",
       " 'manjushreethapa thank detail thought also peopl nepal',\n",
       " 'heavi equip rubbl helicopt transport access block area nepalquak pkzgpddâ',\n",
       " 'nepalearthquak need humanitarian aid rescu oper medic assist',\n",
       " 'foreign secretari jaishankar confirm indian fatal nepal includ peopl assam whose bodi',\n",
       " 'list urgent relief materi requir plz help nepalearthquak nepalquakerelief',\n",
       " 'nepal quak survivor clash riot polic seek zee news via world googl news',\n",
       " 'dead nepal far matter second sicken way climat chang alarmist wish count',\n",
       " 'generat brave gorkha defend india india goe pay back debt nepalearthquak',\n",
       " 'thought prayer victim famili friend earthquak nepal avail help prayfornep',\n",
       " 'friend pleas help affect nepalearthquak donat redcross via',\n",
       " 'delight rss worker reach nepal help let stop doubt either nation spirit',\n",
       " 'good design help japan earthquak nepal',\n",
       " 'one nepal villag wait aid flow beyond capit world news guardian',\n",
       " 'pls team nepal work around clock provid assist aftermath nepalearthquak',\n",
       " 'death toll nepalearthquak risen soul',\n",
       " 'thing indian help nepal',\n",
       " 'helicopt mobil detail today relief materi distribut',\n",
       " 'still cant believ wit nepalquak today histori crumbl nation despair',\n",
       " 'nepal lenskart botch indian startup extend genuin help trakin',\n",
       " 'thought prayer nepal earthquak victim prayfornep',\n",
       " 'announc cmx summit scholarship program nepal support new workshop parti zznublebw via cmxsummit',\n",
       " 'astonish bbc marr discuss nepal term risk everest climber heritag mention nepali',\n",
       " 'india respons like extend blank nepal outlook wire',\n",
       " 'imposs keep rise death toll nepal earthquak link ongo',\n",
       " 'disast warn develop topnew',\n",
       " 'look help nepalquak victim wfp alreadi work use support ryeonklzhh',\n",
       " 'exsecular yesiamsaffron anoth soulvultur nepalearthquak',\n",
       " 'dead bodi found everest base camp earthquak nepal',\n",
       " 'meerasany rescu oper concentr kathmandu dead news small town updat',\n",
       " 'race time peopl still trap insid xouprwtgtq nepal kathmandu earthquak pleasedon generous',\n",
       " 'terribl sankhu katmandu mani bodi still rubbl unstabl build difficult rescu',\n",
       " 'hundr dead earthquak strike power earthquak measur richter',\n",
       " 'gift giver hard work nepal despit sever deplet equip',\n",
       " 'still hear friend famili sad hear dharara tower gone nepal nepalearthquak earthquak',\n",
       " 'check link excel guid would like help nepalearthquak',\n",
       " 'chines leader send condol nepal quak rescu team way nepalquak qkâ',\n",
       " 'prayer nepal peopl may allah shower bless bring everyth back normal soon ameen',\n",
       " 'nepalearthquak sewaa gurudwaraamritsar sahib other langar materi mikasingh',\n",
       " 'nepal war foot quarter popul hit quak hlxchjqdbk',\n",
       " 'noticia sin latest nepal thousand tri leav thousand line bus station kathmandu bid',\n",
       " 'tini babi nepal miracul rescu rubbl surviv earthquak bynatashanoman ilcirxhgbl via micnew',\n",
       " 'nepal death toll',\n",
       " 'russian rescu team arriv kathmandu april tass team rescuer medi',\n",
       " 'ramdev baba adopt children nepal lost parent thank patanjali immens servic',\n",
       " 'tech giant lend hand nepal earthquak disast abc news technolog',\n",
       " 'stibo system support victim nepal earthquak charitywat',\n",
       " 'god bless nepal let pray victim tragedi',\n",
       " 'nepal race rescu climber everest suppli run herald',\n",
       " 'israaid emerg relief earthquak struck nepal',\n",
       " 'good friend larkburg donat revenu today earthquak relief nepal get ahi burger',\n",
       " 'uoft extend condol nepal servic avail student staff',\n",
       " 'help collect inform nepal earthquak culturalheritag culturalsit',\n",
       " 'nepalquak tremor last hour crack found pashupatinath templ',\n",
       " 'man rescu build nepal news',\n",
       " 'devast nepal earthquak chariti relay stori',\n",
       " 'nepal aim help peopl hit earthquak provid clean water toilet shelter',\n",
       " 'rescu team pakistan armi high special rescu natur disast sent nepal pakarmyreliefeffort',\n",
       " 'new earthquak magnitud region nepal date time utc locat ezivkrmiew',\n",
       " 'ninadobrev directrelief help peopl nepal need',\n",
       " 'nepal key inform known death toll climb aftershock continu day',\n",
       " 'report villag close epicentr report villag havent seen singl rescu relief worker',\n",
       " 'govern give help respons nepal earthquak kill peopl',\n",
       " 'aftershock kathmandu region measur magnitud geolog survey say xoixjwvucw',\n",
       " 'follow feder ifrc inform global redcross respons nepalearthquak',\n",
       " 'magnitud earthquak slam nepal dead author say',\n",
       " 'horrifi situat death toll rise pakistan send four aircraft assist nepalearthquak',\n",
       " 'heart nation nepal may find strength support within overcom tragedi nepalearthquak',\n",
       " 'will abl govern peopl nepal nepalearthquak nepalquak nepalquakerelief narendramodi htâ',\n",
       " 'ten thousand peopl nepal camp fear go back home case anoth earthquak',\n",
       " 'bravo jantakareport launch alreadi grt job unit distress ppl india nepal keep',\n",
       " 'deploy royalairforceuk chinook helicopt help suppli peopl travel quick reâ',\n",
       " 'beef masala mus relief materi minor communiti nepal sanghi wont let minor eat nepal',\n",
       " 'ibnliv cant china stink rich countri nepal neighbour send money aid etc red amri help',\n",
       " 'presid pranab mukherje speak nepal presid assur fullest cooper',\n",
       " 'everyon nepal',\n",
       " 'wow one big earthquak nepal',\n",
       " 'prayer nepal hope earthquak leav mani casualti prayer nepal',\n",
       " 'pray peopl affect earthquak kathmandu pictur realli catastroph',\n",
       " 'imp host unocha nepalquak situat report digitalhimalaya speed',\n",
       " 'dear god pleas give peopl nepal courag deal tragedi dear world let give nepal loveâ',\n",
       " 'histor architectur destroy earthquak',\n",
       " 'forc rescu peopl trap nepal villag earthquak amba srilanka',\n",
       " 'visual nepalearthquak human side abdsc bigdata dataviz',\n",
       " 'let pray everyon nepal hope find love one',\n",
       " 'trust set emerg appeal fund htukearthquakeapp pleas donat help nepalâ',\n",
       " 'emma moment silent thought nepal today',\n",
       " 'surviv kit nepal hrs goal let get soon xjxeerwoqz',\n",
       " 'problem india help nepal whatev reason douch actual douch still useâ',\n",
       " 'nepal nine new zealand still unaccount via nzherald',\n",
       " 'latest nepal dozen arrest loot spread rumor impend big quak pllrmzoxrt',\n",
       " 'stay strong must better prayfornep rvinshnjwq',\n",
       " 'announc provid addit million nepalearthquak respons recoveri effort westandwithneâ',\n",
       " 'appreci initi taken narendramodi help nepal make nation great moral author',\n",
       " 'nobodi help peopl villag peopl die abgurung',\n",
       " 'nepal earthquak situat make sushmita know peopl social network express sad',\n",
       " 'stream emerg communic nepal',\n",
       " 'melbourn volunt jess smith caught nepalearthquak spoke sky news kathmandu',\n",
       " 'dear peopl nepal still need help amplifi voic ground help relief effort',\n",
       " 'sindhupalchok alon death reach home destroy desper wait help ovcstuhoav nepaleâ',\n",
       " 'director anubhavsinha seek assist hous help stuck nepal',\n",
       " 'chose savethechildren support nepal earthquak relief help',\n",
       " 'buse leav gorakhpur carri strand indian tilganga bridg near kathmandu intl airport meaindia',\n",
       " 'rescuer japan seen histor centr kathmandu afp nepalearthquak',\n",
       " 'nepal groan earthquak christian missionari shameless sell jesus',\n",
       " 'good morn friend busi day work today remind peopl nepal need help help generous',\n",
       " 'alloc uncerf mean critic work scale immedi valerieamo nepalquak',\n",
       " 'salut derasachasauda chief gurmeetramrahim grt step nepalquak victim msghelpearthquakevictim',\n",
       " 'nepal govern even abl manag incom foreign aid',\n",
       " 'nepal earthquak survivor struggl mourn former verg report greg sandov arfryhxtup verg',\n",
       " 'million children danger nepalearthquak join help keep safe donat',\n",
       " 'may god bless nepal save soul strugglin live may one lost live riâ',\n",
       " 'feel pray distant land heart mind nepal',\n",
       " 'way give nepal earthquak relief',\n",
       " 'pleas keep lord bless famili friend prayer nepalearthquak pahiirm',\n",
       " 'here stori pakistan send beef masala aid quak hit nepal',\n",
       " 'death toll reach monday nepal polic say nepalquak nepal',\n",
       " 'servic back hour groceri store open kathmandu begin put piec togeth himalâ',\n",
       " 'offici tri contact irish citizen nepal hit strong aftershock',\n",
       " 'event bambam birthday dear kunpimook bhuwakul donat nepalearthquak unicef htâ',\n",
       " 'hey att your provid nepalearthquak goe chariti unicef tmoâ',\n",
       " 'life unpredict may allah wid famili hav lost love nepal india pls',\n",
       " 'search rescu team fairfax counti arriv dart helicopt medic assist westandwitâ',\n",
       " 'someth reflect next day link drr cba wake nepalearthquaâ',\n",
       " 'pray nepal enrico barletta travel photographi travelphotographi photooftheday',\n",
       " 'death toll earthquak nepal today world move provid aid',\n",
       " 'nepal hamilton ross princ describ bleak recoveri work',\n",
       " 'donat nepal via',\n",
       " 'break nepal quak death toll reach offici',\n",
       " 'provid famili clean water month text dec donat nepalquak',\n",
       " 'losdelsonido dead quak hit nepal caus big mani injuri report ivanberroa',\n",
       " 'save children staff work hard deliv aid day nepalquak activ respons',\n",
       " 'help affect devast earthquak nepal savechildrenuk',\n",
       " 'damari frick salvarmyihq take part nepalearthquak health cluster meet kathmandu httpâ',\n",
       " 'gift giver assist nepal bjvookcbwu',\n",
       " 'pray nepal team himalayan hardwar prayer mani padm hum',\n",
       " 'yoshadhara mahabir patan ppl dri tradit sukul last nite rain old hous new still',\n",
       " 'hello dear brother sister friend pray nepal',\n",
       " 'nepal want cri feel hurt',\n",
       " 'provid warm cloth blanket hygien kit children nepal thank amaz support',\n",
       " 'coinsforaustralia send coin aus uncondit given send nepal may claim legal right kill',\n",
       " 'around pregnant women affect quak',\n",
       " 'hahahaha gea tweet encourag donat nepal full repli contract niâ',\n",
       " 'pray nepal may god protect xpdxybyswq',\n",
       " 'facebook safeti check let check nepali friend impress hope nitesh fine nepalearthquak khngskmsja',\n",
       " 'watch cnn redcross discuss rescu effort nepalearthquak icrc feder nepâ',\n",
       " 'heartbreak see devast nepal',\n",
       " 'day guardian kathmandu fell centuri king pratap malla stone pillar nepalearthquak',\n",
       " 'nepal earthquak move kathmandu feet south everest height unchang say expert',\n",
       " 'death toll mount nepal search earthquak survivor',\n",
       " 'nepal rock latest earthquak death toll',\n",
       " 'way help nepal earthquak follow organ provid relief nepal thousand victim',\n",
       " 'precis inform visual outsid ktm sore miss casualti must much valley nepalearthquak',\n",
       " 'nepal mani dead pain',\n",
       " 'let pray minimum life loss nepalearthquak',\n",
       " 'anoth big jerk kathmandu hope stop soon peopl stop ignor help pleas even help',\n",
       " 'magnitud earthquak nepal india china earthquak unrest obvious',\n",
       " 'resid kathmandu camp tarp fear aftershock nepalquak',\n",
       " 'let come togeth pray affect earthquak nepal india iskcon nepal set relâ httâ',\n",
       " 'fake fals rumour spread onlin nepalquak bswafwuhvm',\n",
       " 'nepalearthquak land uneven ground iaf simpani near pokhara',\n",
       " 'power much region mani share scene stori insid wwâ',\n",
       " 'pleas pray shes nepal affect earthquak pleas pray famili',\n",
       " 'new blog local nepal earthquak appeal blog',\n",
       " 'idf field hospit establish kathmandu biggest ever built isra militari channel coâ',\n",
       " 'miss nepalquak',\n",
       " 'everyth els happen nepal kathmandu post still cover world news includ baltimor',\n",
       " 'nepal learn larg scale disast also come challeng nation secur sovereignti',\n",
       " 'say caught what happen baltimor fail recogn what happen nepal',\n",
       " 'appropri shotofscotchnyc scotchforacaus tonight benefit girlsglasgow sister nepal httâ',\n",
       " 'nepalearthquak trigger aftershock kolkata north india landslid sikkim',\n",
       " 'ericsson respons ground nepal support emerg rescu effort',\n",
       " 'board indian air forc chopper mission nepal nepalearthquak',\n",
       " 'nobodi airport control tower relief materi turn away nmiipbzlic',\n",
       " 'prolli peopl know nepal earthquak school smh theyr twitter ignor cuz',\n",
       " 'nepal earthquak horribl',\n",
       " 'green beret join nepal earthquak relief quyaxrkmah',\n",
       " 'find latest nepalquak situat report',\n",
       " 'approx hous collaps barpak gorkha epicent nepalquak report state radio report',\n",
       " 'support respons nepalquak contact redcross redcresc countri donat',\n",
       " 'conduct search rescu oper nepal',\n",
       " 'person know team nepal work help peopl rest assur everi penni httâ',\n",
       " 'boy found aliv rubbl day nepalquak efuybnfwc ytzsdljkus',\n",
       " 'shiromani gurudwara prabandhak commiti send food packet today nepal indiawithnep sldizâ',\n",
       " 'think israel nepal aid hasbara your miss critic fact doesnt care',\n",
       " 'bollywood celeb pray safeti post nepal strong earthquak measur richter scale rock nepal',\n",
       " 'sentri carri patient dessup involv dedic team bhutannep quak bbsbhutan',\n",
       " 'read brampton woman journey nepal earthquak kill upward',\n",
       " 'tourist gujarat strand nepal kin contact control room gandhinagar',\n",
       " 'kathmandu stand feel though earth nepalquak',\n",
       " 'prayer heart goe famili nepal india lost love one god bless soul nepâ',\n",
       " 'passeng flight kathmandu arriv back attempt',\n",
       " 'ustpac send condol famili friend nepalquak victim help relief effort nytim',\n",
       " 'heart goe india nepal pray everyon well condol depart soul rip',\n",
       " 'thousand sleep nepal street',\n",
       " 'nepalearthquak riotsinbaltimor publichealth emerg',\n",
       " 'old town kathmandu valley devast time time indiaold town kathmandu valley devasta',\n",
       " 'nepalquak number need know april',\n",
       " 'good news nepal final share stori friend dzifound',\n",
       " 'heartfelt prayer support heal love sent nepal',\n",
       " 'death toll nepal quak jump home affair ministri say china india death lift toll ykcxeccqci',\n",
       " 'medic team deploy nepal includ team alreadi reach opmaitri nepalearthquak amaâ',\n",
       " 'nepal prime minist anybodi know',\n",
       " 'key fact nepal site quak iwcheveqvb',\n",
       " 'nepal tragedi unit world middl east war divid world',\n",
       " 'thousand die earthquak nepal one die polic custodi one stori get',\n",
       " 'proud uofusurgeri step nepalearthquak safe travel courtney scaif resid katiewrusâ',\n",
       " 'let help poor peopl nepal cant contribut least make concert effort least buy nepales hashish',\n",
       " 'whirlwind readi help nepal rescu dog slaughter china read mgzgvqszck via hsiglob',\n",
       " 'prayer baltimor nepal',\n",
       " 'even biggest monutain earth got angri nepalquak',\n",
       " 'info relief shelter sankha park ringroad ktm contact vishwaprakash pandit nepalquakerelief',\n",
       " 'watch oxfamgb spokesperson lisa rutherford latest humanitarian situat nepal',\n",
       " 'least believ dead massiv earthquak strike yxkpisbixf',\n",
       " 'nepal quak worst temblor hit poor south asian nation trpmxzumxb via',\n",
       " 'nepalearthquak helplin search yet',\n",
       " 'weve launch appeal get lifesav aid children famili affect',\n",
       " 'nepal rescuer struggl reach quak victim via josephjett news',\n",
       " 'safe highris delhi mumbai nepalearthquak',\n",
       " 'pleas text earthquak donat relief effort nepal umbrella',\n",
       " 'nepal earthquak narendra modi call emerg',\n",
       " 'nepal hospit swamp number death cross thousand overwhelm doctor move hundr patient',\n",
       " 'indiawithnep member armi engin task forc move yesterday separ team check nepal power grid thankuarmi',\n",
       " 'pleas help oxfamgb reach mani peopl possibl nepal text donat nepalearthquak',\n",
       " 'rescu nepal send support victim earthquak nepal join give',\n",
       " 'may god peopl nepal tough stage furi natur nepalearthquak staysafeâ',\n",
       " 'want help disasterrespons nepalearthquak donat medshar',\n",
       " 'indiawithnep tonn food packet larg oxygen cylind move yesterday enrout today morn',\n",
       " 'least eight dead everest avalanch buri part nepal everest base camp follow earthquak',\n",
       " 'shes right prayer nice nepal need help someon come place constant get',\n",
       " 'send pray peopl nepal countri given amaz men gurkha nepalearthquak',\n",
       " 'power magnitud aftershock rattl kathmandu area nepal day devast',\n",
       " 'latest protest complain aid reach free tool onlin',\n",
       " 'nepal earthquak amitabh bachchan write first trip amitabh bachchan later shot film like khuda',\n",
       " 'inform map earthquak',\n",
       " 'form made rescu jesuss name amen prayfornep',\n",
       " 'thank unit support nepal nepalquakerelief lenchhtjar',\n",
       " 'statement abta follow chang travel advic nepal',\n",
       " 'taiwan rescu medic team depart nepal nepalearthquak',\n",
       " 'devast earthquak peopl nepal sleep street park prayfornep nepal',\n",
       " 'rescuer still work kathmandu rescuer still work kathman via thenewshyp',\n",
       " 'mean alot pleas dont ignor nepal',\n",
       " 'wall norvic hospit crack open nepalearthquak',\n",
       " 'rss cadr leav relief effort nepal thing media look vdirkgol',\n",
       " 'pls share earthquak helplin indian embassi',\n",
       " 'open space nepal limit cramp hyattreg still exclus rich western nepalquak',\n",
       " 'anoth use facil facebook help peopl affect earthquak earthquakenep disast',\n",
       " 'key nepal economi water',\n",
       " 'earthquak peopl die god prayfornep prayfornep prayfornep',\n",
       " 'fantast rotari shelterbox help nepal rotari proud rotarian rotarylondonsm rotarycl',\n",
       " 'indian nepal say ramdev disappear night without inform style escap salwar',\n",
       " 'earthquak nne nagarkot nepal',\n",
       " 'got know relief materi sent sikkim nepal tax nepal custom nepalquaâ',\n",
       " 'drgpradhan event earthquak fear nepal brand asâ',\n",
       " 'nepal earthquak kill dozen india via',\n",
       " 'around three lakh foreign tourist strand nepal',\n",
       " 'top question world ask nepalearthquak googl',\n",
       " 'join jack support nepalearthquak relief recoveri effort pleas consid make donat coâ',\n",
       " 'instruct hep yameen tourism industri sponsor maldivian flight bring maldivian nepal tomorrow coordin dunya',\n",
       " 'nepal rise',\n",
       " 'aftershock nepal sinc saturday earthquak number',\n",
       " 'thought prayer affect nepal donat someth help',\n",
       " 'today monday mishmash focus someth import nepal',\n",
       " 'aid get support help affect nepalquak',\n",
       " 'thought victim affect earthquak nepal tragic news',\n",
       " 'alhamdhu lillah student nepal back safe sound thank presid foreign minist tourism minist httâ',\n",
       " 'emerg declar nepal massiv nepalearthquak',\n",
       " 'love thought live lost one still struggl nepal nepalearthquak peac love',\n",
       " 'report nepal sandonet whos kathmandu',\n",
       " 'anupkaphl also send email coordin someon timesnow delhi pass',\n",
       " 'krishna lost home nepalquak day ago focus help',\n",
       " 'thought prayer pour',\n",
       " 'world riot polic interven anger erupt among nepal quak survivor',\n",
       " 'thank alstewitn itvnew decapp broadcast partner essenti tell stori need disastersâ',\n",
       " 'firewood main crematorium kathmandu funer pyre burn day night nepalquak dmhâ',\n",
       " 'want truli help nepal rush solid post guardian best support nepal',\n",
       " 'foreign offic tell briton strand nepal follow local author advic follow earthquak leftâ',\n",
       " 'laradutta plz miss meacontrolroom eoiktmnp nepalquak help',\n",
       " 'thousand flee kathmandu india step relief effort number death saturday earthqu mtxydbrkbh',\n",
       " 'nepal bbc crew travel quak epicentr bbc news',\n",
       " 'today take moment silenc send well wish affect earthquak nepal azlvknjrz',\n",
       " 'cant help everyon everyon help someon fbd happi sunday guy love pls continu pray',\n",
       " 'ndtv news nepal gujarat touch centr ensur return gujarati ndtv news',\n",
       " 'real time nepalearthquak india sad bangladesh wasnt ball',\n",
       " 'sent team rajnath singh lok sabha nepalearthquak indiawithnep',\n",
       " 'photograph nepalearthquak thatll remain etch memori structur damag buddha smile medit httpâ',\n",
       " 'lord pleas shower love comfort protect nepal difficult period prayfornep',\n",
       " 'power busi emerg onlin brief nepal earthquak',\n",
       " 'deploy new nepal death toll earthquak grow world socialist web site nqwagjgzpk warnew',\n",
       " 'death toll nepal power earthquak rise home ministri nepalquak',\n",
       " 'timesofindia meaindia indian ever want shelter nepal migrant kept rehabilit camp',\n",
       " 'wish donat nepalearthquak prime relief fund',\n",
       " 'pleas retweet clean water nepal follow link mondaymotiv nepalquak',\n",
       " 'love thought prayer nepal heartbreak vkjsauraic',\n",
       " 'maheshnbhatt your tri locat friend famili nepal tri cont',\n",
       " 'special thank indian govern iaf immedi help rescu work nepal human resâ',\n",
       " 'rannvijaysingha thank whatev nepal',\n",
       " 'ndtv latest india make effort help prime minist nar',\n",
       " 'global redcross deliv aid nepal way help nepalquak',\n",
       " 'thought prayer go resid kathmandu affect quak nepal today',\n",
       " 'aheartofgold yunakim yunaaaa donat thru unicefkorea help nepales children affect nepaleaâ',\n",
       " 'whole india send relief pakistan flood dont ask nepal instead ofâ',\n",
       " 'pink mandi moor kevin jona among celebr tweet support nepal earthquak',\n",
       " 'teocheehean singapor ghurka conting morn nepalearthquak brief httâ',\n",
       " 'rohanshrestha head nepal help plz contribut whatev way vouch effort',\n",
       " 'archbishopkurtz call collect support catholicrelief respons nepalearthquak fhxyunidxc',\n",
       " 'nepal polic offici say least confirm dead earthquak aftershock rattl',\n",
       " 'speak nepales bhasa pleas join crisi respons team nepal earthquak email rebeccatranslatoâ',\n",
       " 'eight million hit nepal quak eight million peopl affect nepal earthquak needâ',\n",
       " 'access clean water critic nepal togeth save nepalearthquak htâ',\n",
       " 'photo medic assist nepal begin first humanitarian mission aircraft land',\n",
       " 'hour wonder mani trap peopl aliv nepal earthquak',\n",
       " 'nation stand nepal indian nepalearthquak',\n",
       " 'remors due loss live properti nepal disastr earthquak great reliev proactiv action taken',\n",
       " 'feel sad beauti peopl nepal pray stay strong get nepalearthquak',\n",
       " 'kathmandu airport close follow massiv deep kumar upadhyay nepal ambassador',\n",
       " 'sad moment nepal prey god save',\n",
       " 'nepalearthquak insid aircraft readi take nepal rescu personnel load',\n",
       " 'may almighti allah give strength peopl nepal nepalearthquak mka ireland pray rescu team',\n",
       " 'pray gaza went day india whimper help hindus suffer earthquak nepal',\n",
       " 'recent read news aw support peopl nepal prayer',\n",
       " 'aid organ seek donat nepal quak relief here canadian',\n",
       " 'aircraft take sthlm morn nepal tent medic food water etc teliasonera ncell nepal',\n",
       " 'latest pic earthquak aftermath kathmandu nepalearthquak indiawithnep mjujuhevom',\n",
       " 'good famili miss isra get word cngdyqgfn nepalquak israelinnep israelmfa',\n",
       " 'twitchshar fundrais nepalquak twitch telltal thewaâ iwzdtonceh',\n",
       " 'district nepal impact nepalearthquak new map show epicent aftershock',\n",
       " 'usembassynep american bever brown group report miss safe langtang hope nepal',\n",
       " 'rip sad continu hear increas death toll beauti place avwjmvpypa',\n",
       " 'pray peopl affect massiv nepalearthquak supportnep httpâ',\n",
       " 'health safeti concern top current prioriti aid group work nepal',\n",
       " 'volunt meet yellow hous sanepa coordin relief oper outsid ktm nepalquakerelief',\n",
       " 'nepal flood peopl leav capit return home',\n",
       " 'name ebola would surpris know matter day peopl dead virus nepal',\n",
       " 'man pull aliv indian search team hour earthquak struck nepal pti',\n",
       " 'riotjazz amaz print sale includ kendal call proceed aid nepal',\n",
       " 'nepalquak famili stuck tato paani nepal name aditya bhargava sanjay bhargava mobi',\n",
       " 'akshay gabbar back earn nepal call',\n",
       " 'massiv earthquak commerci flight kathmandu put hold',\n",
       " 'nepal offici say death earthquak reach least help nepal save human live may god save peopl nepal',\n",
       " 'updat nepal earthquak',\n",
       " 'stand solidar govern peopl nepal grappl effect thâ',\n",
       " 'canada announc million emerg relief russia sent rescu team land later today nepâ',\n",
       " 'know seismograph near charlott abl detect vibrat nepalearthquak',\n",
       " 'earthquak slam devast loss peopl histori',\n",
       " 'nepal sushil koirala intellig chief appris pakistan send beef quak relief internaâ',\n",
       " 'kathmandu come pokhara road clear lot devast villag tho nepalearthquak',\n",
       " 'give miss call everi miss call freecharg donat nepalearthquak nepalquakerelief',\n",
       " 'magnitud aftershock rumbl death toll rise',\n",
       " 'fellow malaysian nepal need wish donat pleas contact mercymalaysia nepalearthquak',\n",
       " 'heartbreak see pictur recognis everi place nepalearthquak',\n",
       " 'two shelterbox respons team nepal follow saturday earthquak team due arriv later',\n",
       " 'nepal earthquak drone footag give bird eye view destruct wall street journal blog drone rpv uav',\n",
       " 'british archeologist terrifi narrowli escap death nepales earthquak telegraph uofyarchaeolog htâ',\n",
       " 'realli proud indian air forc support nepal hour grief tragedi',\n",
       " 'man pull aliv rubbl thursday day massiv nepal earthquak peopl die',\n",
       " 'million women children affect support relief effort nepal',\n",
       " 'allahgreatquran pray nepal armurugadoss schwarzenegg',\n",
       " 'light tragic event provid free call nepal next week wind custom call froâ',\n",
       " 'cnn miss india list nation help nepal india pour heart height presstitut shameoncnn',\n",
       " 'tibet also hit hard china daili report build nyalam counti damag foreign press bar',\n",
       " 'first relief plane leav kathmandu delhi nation disast respons forc personnel tonn medic relâ',\n",
       " 'spicejet say full refund kathmandu flight earthquak',\n",
       " 'exhaust polit paralysi feel peopl nepal could turn explos rescu relief effortsâ',\n",
       " 'nepal big next himalayan earthquak mayb closer homeâ news cedcugmtx',\n",
       " 'send blanket nepalquakerelief vadodara blanket cost contribut',\n",
       " 'pray nepal actual someth contribut relief',\n",
       " 'fact nepal earthquak rqvbnoudhi',\n",
       " 'privat govt school remain close april precautionari measur earthquak nepaâ',\n",
       " 'rain god show kind nepalquak',\n",
       " 'mos jitendra singh doctor profess arrang send free insulin diabet patient among earthquak viâ',\n",
       " 'donat also made nepal earthquak appeal postoffic',\n",
       " 'tragic think disast mountain right nepalquak pttravel',\n",
       " 'chanyeol sehun instagram tri spread word nepal encourag peopl donat',\n",
       " 'still get detail nepalearthquak locat safeti team',\n",
       " 'beauti children met nepal pray safeti tzefatmvk',\n",
       " 'littl duti help earthquak victim nepal sysynbsvst',\n",
       " 'devast see continu aftermath nepal simpl thing make differ whether small donat beingâ',\n",
       " 'friend former mozzer mrensch nepal recent earthquak shes rais money',\n",
       " 'updat team land nepal secur locat base camp town outsid',\n",
       " 'death toll nepalquak could cross million homeless need scale relief effort',\n",
       " 'here list ngos respond nepalearthquak via cidioutreach westandwithnep',\n",
       " 'refus stop rain nepal peopl still sleep open desper requir tent help',\n",
       " 'nepal earthquak victim drank urin surviv hour rubbl jddixuinki',\n",
       " 'opposit leader teimumu kepa today call peopl fiji unit prayer peopl nepal',\n",
       " 'thousand volunt scour satellit imag nepal peopl volunt examin squar',\n",
       " 'indian narendra modi speak nepal sushil koirala offer assist quak india armi air forc stâ',\n",
       " 'unesco heritag landmark nepalearthquak maju deval dharahara tower kathmandu quak',\n",
       " 'anyon guid help peopl nepalquakerelief time struck',\n",
       " 'need true god indian defenc forc respect nepalquakerelief',\n",
       " 'still manyshop close mani place authent rumor ntc profit bear nepal',\n",
       " 'like pms statement appreci come empath visibl nepal plight support eveâ',\n",
       " 'brave peopl nepal work rebuild recov here',\n",
       " 'usaid weve activ ffxfirerescu urban team deploy dart help nepaleartâ',\n",
       " 'googl execut kill nepal earthquak hike everest via davidgoldmancnn gpâ',\n",
       " 'nepal quak trigger avalanch everest kill turn base camp war',\n",
       " 'prankster record first minut dead nepal saturday nepali prankster sho',\n",
       " 'thought prayer go nepal right',\n",
       " 'pleas consid help habitat human rebuild nepal thank advanc generos',\n",
       " 'nepal quak rescu effort ramp toll hit nepalearthquak',\n",
       " 'soldier say afraid death either lie gurkha long live nepal rcczjkxâ',\n",
       " 'casualti kashmiri report far due earthquak nepal kashmiri shopkeep tourist kathmandu',\n",
       " 'indian helicopt resourc use bottleneck minist govt nepalâ',\n",
       " 'light earthquak nepal pleas pray support emerg appeal fhtrxuglob',\n",
       " 'list bank nepal function nepalquakerelief nepalquak neocoffici',\n",
       " 'rais money nepal earth quak relief fund click cxezhhtngf via gofundm',\n",
       " 'xtian missionari come nepal vultur harvest soul nepalearthquak hmoindia nepalitim',\n",
       " 'nepal ngo report warn damag cite popul growth via httweet nepal ngo',\n",
       " 'hum pal pal nepal saath amul new advert tug heartstr',\n",
       " 'number lost nepal earthquak climb nepalearthquak nepal',\n",
       " 'mainstream news cover most kathmandu bad need updat rural villag nepalearthquak',\n",
       " 'keep mind one power mother natur nepalearthquak earthquak stay safe nepal',\n",
       " 'leav kathmandu look like airport open normal flight moment',\n",
       " 'gay famili retriev nepal quak northern ireland reject gay marriag suprem court begin',\n",
       " 'nepalearthquak death aftershock stronger oilvrzvruy photo',\n",
       " 'adventist church nepal appeal urgent presid noticia',\n",
       " 'report kathmandu clock say earthquak struck local time indianexpress',\n",
       " 'pray peopl nepal everi region affect tragic earthquak',\n",
       " 'nepal super jet globemast super hercul prove worth india induct exp',\n",
       " 'uk nepalearthquak decapp rais',\n",
       " 'india demonstr global leadership recent week yemen nepal envoy',\n",
       " 'remain beauti place alway protect god countri rise advers amiin',\n",
       " 'bangladesh airforc hercul reach kathmandu aid suppli flight plan',\n",
       " 'pleas children danger follow nepal earthquak pleas support provid urgent help',\n",
       " 'thought prayer affect nepalearthquak work close govt nepal provid assisâ',\n",
       " 'plz troubl kirtipur place live ground full water help bikash lamichhan',\n",
       " 'pray everyon nepal earthquakenep sunithasarathi iamlakshmirai itisprashanth',\n",
       " 'first hercul lifter laden relief team land nepal modi tweet disast salutetheforc thankyoupm',\n",
       " 'juniorbachchan srbachchan sir guy contact number nepal earthquak',\n",
       " 'here help assist nepal earthquak',\n",
       " 'good morn kathmandu long line wait gas nepalquak cnn',\n",
       " 'everyon let help crawfordcollin donat',\n",
       " 'quak hit nepal saturday destroy build kathmandu sever affect rural area across region',\n",
       " 'complet nepalquakerelief donat pls note specif donat wapimâ',\n",
       " 'nepal earthquak respons urgent need help donat save live',\n",
       " 'heart break watch what happen baltimor nepal',\n",
       " 'two type vultur prowl wake nepalearthquak indian journalist christian missionari cautâ',\n",
       " 'facebook collect nepal quak aid donat physorg',\n",
       " 'babi name lahor pakistanarmi perform rescu provid medic aid nepales',\n",
       " 'send small donat support nepal disast recoveri tell friend match donat today gbâ',\n",
       " 'babi miracul surviv nepalearthquak pull aliv fine salut rescu team',\n",
       " 'use map nepalquak import pleas help share ktmliviâ',\n",
       " 'delhi metro servic hit due nepalearthquak hbgjhgbikk',\n",
       " 'donat nepal earthquak relief effort itun facebook',\n",
       " 'one iaf ndrf personnel take kathmandu hindon airbas indianexpress lockhe martin',\n",
       " 'latest inform materi fact figur nepalquak one',\n",
       " 'school educ institut shall remain close five day affect district inform minist',\n",
       " 'hatesup indian airforc proud defenc forc whether ground militari airforc navi',\n",
       " 'help savechildrenuk reach children nepal donat support nepalearthquak',\n",
       " 'nepal earthquak death toll rise least injur nepales polic spokesman say via cnnbrk',\n",
       " 'broken peopl nepal friend dan pleas send prayer thought love whove lost ripdaâ',\n",
       " 'sampada check link follow regard',\n",
       " 'lmpothcxni nepal facebook googl tech firm aid nepal earthquak relief',\n",
       " 'everyon kathmandu exhaust prolong test human spirit go',\n",
       " 'stay strong see light nepal prayer nepal nepalearthquak',\n",
       " 'emercom prepar mission nepalearthquak zone',\n",
       " 'dna nepal find hero doctor carri oper ram prasad sapkota doctor digoomwsxx',\n",
       " 'aftershock continu pose threat area could risk landslid coâ',\n",
       " 'pray life end nepalearthquak prayfornep',\n",
       " 'mos kirren rijiju say prime minist person monitor top nepal relief oper take',\n",
       " 'loool told pray wont help nepal situat',\n",
       " 'live first iaf aircraft land kathmandu relief support india airport ixcuugmmkg',\n",
       " 'thousand volunt scour satellit imag nepal quak via gma news',\n",
       " 'dauri payano latest nepal death toll expert say major',\n",
       " 'ive read peopl nepal sad',\n",
       " 'bbc news nepal dead mani injur',\n",
       " 'dedic nepalearthquak victim prayfornep',\n",
       " 'buddhist prayer dark time one prayer today pray nepal',\n",
       " 'bit victim devast earthquak nepal donat via human appeal whore scene htâ',\n",
       " 'two aircraft carri relief good sent ispr',\n",
       " 'cant believ ive hard seen coverag busi nepal quak death toll could reach that shock sad',\n",
       " 'communiti rep interview staff live condit need open area nepalearthquak',\n",
       " 'aftershock caus terror nepal quak death toll increas earthquakeagain',\n",
       " 'let give onedayswag nepal relief fund direct',\n",
       " 'tire wait aid angri nepali block kathmandu sindhupalchowk nepal reuter nepali villag',\n",
       " 'usleagueofteagrow head nepal help kind teasavesl',\n",
       " 'latest nepal death toll gmt breakingnew',\n",
       " 'thought prayer everyon nepal unicef ground assist unicefrosa zswraphâ',\n",
       " 'serious pray anyth tonight nepal dadmom send good wish',\n",
       " 'emerg gideon bibl rush nepal',\n",
       " 'bad news time dera sacha sauda stand victim peopl nepal msghelpearthquakevictim',\n",
       " 'amidst chao pleas keep share stori peopl found nepal hausla badhega aur kuch nahi toh',\n",
       " 'nepal earthquak injur mountain chopper everest',\n",
       " 'detect earthquak utc ago kirtipur nepal feel',\n",
       " 'sundusrashe sent messag facebook along devina shrestha contact nepal kind respond wait',\n",
       " 'pray nepal pray baltimor pray oppressor pray oppress pray neighbor pray',\n",
       " 'extraordinari video turkish tourist nepalearthquak kathmandu nepal',\n",
       " 'breathtak pictur nepalearthquak devast courtesi alimdaad',\n",
       " 'peopl dead earthquak nepal peopl loot cvs america hello handbasket wait go',\n",
       " 'nepalquak nepales dig survivor toll exceed',\n",
       " 'report foreign tourist turn aid worker trekk expedit convert humanitarian mission',\n",
       " 'time global respons nepal quak gear london still time save live that govern',\n",
       " 'nepalearthquak indian embassi nepal emerg contact number',\n",
       " 'nepal earthquak toll could reach govern war sushil death toll',\n",
       " 'learn stori behind search rescu nepal help meet goal indiegogolif jipgssbojq',\n",
       " 'rsaf plane evacu prs kathmandu todayonlin cnsbrrzniu',\n",
       " 'watch updat emerg respons team prepar leav nepal',\n",
       " 'idf search rescu team get readi tonight departur nepal nepalearthquak israel',\n",
       " 'nepal earthquak babi rescu photo',\n",
       " 'studio scrutin disast film market wake los angel light nepal earthqua',\n",
       " 'feel like nepal part nation beauti nation beauti peopl wearewithyou',\n",
       " 'nepal stori loss includ mother pull young children bodi nepal everest eartquak',\n",
       " 'fpleas pray help affect nepalearthquak take moment pray hope',\n",
       " 'cremat nepal turn heart stone chant farmer nxhojqtyyx',\n",
       " 'youd like help caus nepalquakerelief here inform courtesi incrisisrelief',\n",
       " 'iaf suspend rescu op temporarili due bad weather condit nepalearthquak',\n",
       " 'provid children food shelter healthcar support nepalearthquak appeal decapp',\n",
       " 'one way help nepal right need comput littl click',\n",
       " 'state helplin nepalearthquak andhra ndma',\n",
       " 'gomanni god bless nepalearthquak trust god dont loos hope',\n",
       " 'beingskchetan sorri nepal japanâ plz pray nepal countri',\n",
       " 'rumor dat akshaykumar donat day collect upcom movi gabbarisback nepalquakerelief',\n",
       " 'gen dalbir suhag talk nepal armi chief yesterday decid op shud chauhan addl publâ',\n",
       " 'spicejetktm kathmandu safe work tireless handl relief flight take bow via flyspicejet',\n",
       " 'heart goe famili nepal pray',\n",
       " 'pray nepal sad disast',\n",
       " 'nepal economi shatter quak recoveri take year',\n",
       " 'watch news right catch codywalkerroww interview nepal reachoutworldwid coâ',\n",
       " 'stellar mechan donat affect nepal via quinnanthrowman httpâ',\n",
       " 'flag food packet per day relief materi free kitchen kathmanduquak',\n",
       " 'prayer everyon nepalf',\n",
       " 'briton among nepal quak briton live oversea among die nepal earthquak foreign offic',\n",
       " 'god earthquak',\n",
       " 'whos help nepal',\n",
       " 'deep condol toward peopl nepal india lost live earthquak may god give strengthen famili',\n",
       " 'chinavideo chines rescu oper quak site nepal',\n",
       " 'came know earthquak modi twitter account bangkok airport call nepal got updat regular koirala',\n",
       " 'unit kingdom owe help amaz peopl nepal fought die let help httâ',\n",
       " 'ingo radtk maltes intern secretari general first respons devest nepalearthquak',\n",
       " 'nepal prime minist sushil koirala say number kill nepalearthquak could reach',\n",
       " 'fashion design prabalgurung fundrais nepalquak non action option',\n",
       " 'thought everyon affect nepalearthquak pleas text nepal donat',\n",
       " 'mother natur often send lesson wed prefer valu life thought prayer peopleâ',\n",
       " 'peopl tri free man rubbl destroy build magnitud earthquak nepal',\n",
       " 'support nepal donat nepalquakerelief',\n",
       " 'standbi carri relief materi kathmandu free standbi carr',\n",
       " 'wow raniakhalek one sick dement hate ukmediawatch henmazzig elderofziâ',\n",
       " 'quit number organ ground nepal work tireless help peopl need',\n",
       " 'nepal time thank news channel editor report ground zero continu give courag salut',\n",
       " 'urgent need support provid emerg relief thousand peopl affect nepal',\n",
       " 'earthquak nepal happen today april',\n",
       " 'heartfelt condol famili lost dear near one earthquak today india',\n",
       " 'dhungana famili move nepal mnth ago famili okay orphan live cbcwdr',\n",
       " 'ypg ypj condol solidar victim nepalearthquak rojava koban kurdistan twitterkurd',\n",
       " 'indian redcross offer blood unit tent watsan unit famili pack etc earthquak victim nepal pictur still evâ',\n",
       " 'photo nepalquak nepalearthquak',\n",
       " 'realli vri heart throb news earthquak nepal plzzzz gurmeetramrahim jii bless victim msghelpearthquakâ',\n",
       " 'srbachchan thru nepal red cross right path sir',\n",
       " 'thankuarmi creditchorpm market self hard work brave skill disast manag team forc',\n",
       " 'million children danger nepalearthquak text nepal donat',\n",
       " 'join prayer nepal renam oak righteous plant god display glori',\n",
       " 'nepalearthquak kill ndma helplin miss person',\n",
       " 'aftershock airport close power water provid relief partner hospit thank prayâ',\n",
       " 'israel idf field hospit open door nepal',\n",
       " 'death toll quak struck nepal four day ago increas nepales offici say',\n",
       " 'sad news nepal today hope everyon okay nepalearthquak',\n",
       " 'thought prayer everyon affect nepal earthquak',\n",
       " 'nepalquak health expert delhi aiim safdarjung hospit sent nepal',\n",
       " 'recov still miss furthermor isi kill peopl everi day yesterday saw photograph',\n",
       " 'upgovt send buse today evacu nepal buse sent demand upcm yadavakhilesh',\n",
       " 'uk disast emerg committe launch televis appeal donat help victim saturday earthquak nepal',\n",
       " 'latest nepal polic say dead includ',\n",
       " 'blackmarket corrupt govt scari situat nepal shame ppl hang death',\n",
       " 'anyon know msf inflat hospit arriv kathmandu yet vidyakrishnan',\n",
       " 'isra paramed via timesofisrael',\n",
       " 'pre earthquak panorama kathmandu nepal sadrbncpua',\n",
       " 'peopl kill power nepal earthquak say govern offici polic bbcnew',\n",
       " 'somervill coupl surviv nepal earthquak',\n",
       " 'base camp sherpa run mountain even stop lobouch everest nepalquak',\n",
       " 'death toll nepal alreadi pass due earthquak prayer victim',\n",
       " 'yes narendramodi govt work india safe hand nepalearthquak amaz speed rescu relief reaction',\n",
       " 'india girl footbal team stuck nepal due eighteen member india',\n",
       " 'watch first minut quak hit nepal click watch rvxktomnym',\n",
       " 'contact baba ramdev kathmandu wish hour crisi',\n",
       " 'nepal earthquak expect futur',\n",
       " 'nepal unconfirm report resid british nation foreign offic look unconfirm report',\n",
       " 'nepal think pray give someon whose home destroy',\n",
       " 'rescu oper iran yemen nepal mea alway made proud mindblow work jai meaatwork',\n",
       " 'prayer suffer nepalearthquak',\n",
       " 'via nepal earthquak photograph portfolio',\n",
       " 'nepalquak day updat aftershock subsid huge need rescu relief erogtuynbh vliogfoqâ',\n",
       " 'unprepar happen finger cross wont rain dark cloud stayâ',\n",
       " 'power earthquak kill hundr nepal',\n",
       " 'life short uncertain mother natur merci nepalearthquak',\n",
       " 'one aftershock nst struck within mile kathmandu quak could area',\n",
       " 'nepalquak death toll top accord nepal nation emerg oper center coâ',\n",
       " 'nepal like addit part india india never let biggest tragedi far unlik china',\n",
       " 'dear friend leav nepal next day team medic',\n",
       " 'pastor toni miano suggest nepali rebuild pagan shrine bright exampl',\n",
       " 'morn earthquak nepal earthquak hit kathmandu valley',\n",
       " 'least kill injur nepalquak aftershock home affair spokesman tell',\n",
       " 'indian armi establish bed hospit lagankhel nepal nepalearthquak opmaitri',\n",
       " 'pleas retweet keep prayfornep clue pleas mention asap nepalearthquak',\n",
       " 'catch news aftermath nepalearthquak heartbreak need help httâ',\n",
       " 'footag show moment devast quak shatter cctv footag emerg moment deva',\n",
       " 'mrsgandhi say rss idealogu hosabel confirm rss team havent gone nepal pic tweet byâ',\n",
       " 'confus medicin arrang medic team earthquak rescu one nepalquak aqqmqâ',\n",
       " 'watch planglob davtox cnn ten minut discuss nepalearthquak plan respons strand plane kathmâ',\n",
       " 'your tri help send cash stuff look local org big intl brand prepar futurâ',\n",
       " 'nepalquak mani peopl dhunch havent see helicopt sinc sunday morn pleas inform',\n",
       " 'big earthquak report nepal actionaid team countri hold emerg meet assess situat',\n",
       " 'shiromani gurdwara parbandhak committe sgpc send food relief materi nepal nepalearthquak coâ',\n",
       " 'awa tragedi nepalearthquak',\n",
       " 'miss newri earthquak man counti man report miss nepal earthquak aliv',\n",
       " 'heart goe peopl nepal dead earthquak prayer',\n",
       " 'everest climber stuck camp camp await rescu nepalquak nepalearthquak',\n",
       " 'earthquak govt mobilis ndrf team nepal',\n",
       " 'team member samaritanspurs spcanada samspurseuk enrout help victim nepalearthquak',\n",
       " 'nepal slaf flight depart kathmandu lka ada derana adaderana',\n",
       " 'prais report team ground nepal pleas pray begin work nepalquak',\n",
       " 'earthquak pictur nepal',\n",
       " 'algerian stand nepal tragic moment heart goe nepali brother allah prayfornep',\n",
       " 'quak survivor pull mani remot area nepal still wait assist follo',\n",
       " 'isra support approach ktm nepalquak israelinnep danielocarmon suhasinih coâ',\n",
       " 'googl engin die everest avalanch nepal dan fredinburg engin googl project',\n",
       " 'nepalquak least kill injur earthquak india',\n",
       " 'mallabipin bipin bmo made donat nepal relief effort client donat red cross local bmo branch',\n",
       " 'elca alreadi respond peopl nepal read cmgbpuikdu elca',\n",
       " 'everyon appreci indian akbar rescu nepal earthquak',\n",
       " 'photo nepal show effect dead earthquak',\n",
       " 'neoblackfolk make free call devast earthqu neoblack com',\n",
       " 'qualiti sourc support relief effort nepal',\n",
       " 'facebook activ safetycheck peopl affect',\n",
       " ...]"
      ]
     },
     "execution_count": 92,
     "metadata": {},
     "output_type": "execute_result"
    }
   ],
   "source": [
    "final_string"
   ]
  },
  {
   "cell_type": "code",
   "execution_count": 146,
   "metadata": {},
   "outputs": [],
   "source": [
    "x=[ i for i in range(0,5)]"
   ]
  },
  {
   "cell_type": "code",
   "execution_count": 147,
   "metadata": {},
   "outputs": [
    {
     "data": {
      "text/plain": [
       "[0, 1, 2, 3, 4]"
      ]
     },
     "execution_count": 147,
     "metadata": {},
     "output_type": "execute_result"
    }
   ],
   "source": [
    "x"
   ]
  },
  {
   "cell_type": "code",
   "execution_count": 93,
   "metadata": {},
   "outputs": [
    {
     "name": "stdout",
     "output_type": "stream",
     "text": [
      "acuuracy>>>> 64.18578623391159\n"
     ]
    }
   ],
   "source": [
    "from xgboost import XGBClassifier\n",
    "xgbm=XGBClassifier(objective=\"multi:softmax\")\n",
    "xgbm.fit(X_train,y_train)\n",
    "y_pred=xgbm.predict(X_test)\n",
    "acc=metrics.accuracy_score(y_test,y_pred) \n",
    "#here we are passing actual result and predicted result to find out accuracy\n",
    "print('acuuracy>>>>',acc*100)\n"
   ]
  },
  {
   "cell_type": "code",
   "execution_count": null,
   "metadata": {},
   "outputs": [],
   "source": []
  }
 ],
 "metadata": {
  "kernelspec": {
   "display_name": "Python 3",
   "language": "python",
   "name": "python3"
  },
  "language_info": {
   "codemirror_mode": {
    "name": "ipython",
    "version": 3
   },
   "file_extension": ".py",
   "mimetype": "text/x-python",
   "name": "python",
   "nbconvert_exporter": "python",
   "pygments_lexer": "ipython3",
   "version": "3.7.4"
  }
 },
 "nbformat": 4,
 "nbformat_minor": 2
}
